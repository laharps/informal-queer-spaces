{
 "cells": [
  {
   "cell_type": "markdown",
   "id": "27443943-aba3-4b6b-b117-bca63c60919f",
   "metadata": {},
   "source": [
    "# Map and Graph and Stuff\n",
    "This notebook uses the completegaybizdf, which has all the gay businesses identified in "
   ]
  },
  {
   "cell_type": "code",
   "execution_count": null,
   "id": "8a768748-71d7-4ca1-8362-093298391cb3",
   "metadata": {},
   "outputs": [],
   "source": []
  }
 ],
 "metadata": {
  "kernelspec": {
   "display_name": "Python 3 (ipykernel)",
   "language": "python",
   "name": "python3"
  },
  "language_info": {
   "codemirror_mode": {
    "name": "ipython",
    "version": 3
   },
   "file_extension": ".py",
   "mimetype": "text/x-python",
   "name": "python",
   "nbconvert_exporter": "python",
   "pygments_lexer": "ipython3",
   "version": "3.8.13"
  }
 },
 "nbformat": 4,
 "nbformat_minor": 5
}
