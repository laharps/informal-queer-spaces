{
 "cells": [
  {
   "cell_type": "markdown",
   "id": "7d6e0613-bfbe-4a13-ab01-dc7840b8f205",
   "metadata": {},
   "source": [
    "# Cleaned Yelp Dataset"
   ]
  },
  {
   "cell_type": "markdown",
   "id": "fd418951-3ec0-4c99-956f-01f18ffe736d",
   "metadata": {},
   "source": [
    "This noteboook extracts business in Philly from the business.json and then extracts all the reviews. It does the same only for establish gay businesses in Philly."
   ]
  },
  {
   "cell_type": "code",
   "execution_count": 1,
   "id": "b507540c",
   "metadata": {},
   "outputs": [],
   "source": [
    "import pandas as pd\n",
    "import geopandas as gpd\n",
    "import requests\n",
    "import json\n",
    "from bs4 import BeautifulSoup\n",
    "import os\n",
    "import matplotlib.pyplot as plt\n",
    "import contextily as ctx"
   ]
  },
  {
   "cell_type": "markdown",
   "id": "786e15e2-8420-4bab-86c2-3c8a48f5bc65",
   "metadata": {},
   "source": [
    "# All Businesses in Philadelphia"
   ]
  },
  {
   "cell_type": "markdown",
   "id": "fea22bf7-6970-4706-b07d-ecb8b3c02a41",
   "metadata": {
    "tags": []
   },
   "source": [
    "## Filter Business JSON for Philadelphia Area"
   ]
  },
  {
   "cell_type": "code",
   "execution_count": null,
   "id": "8aa68239-d734-4449-b6ef-a8631748dd2b",
   "metadata": {},
   "outputs": [],
   "source": [
    "# load data\n",
    "biz = pd.read_json('/Users/harper/Documents/GitHub/yelp_dataset/yelp_academic_dataset_business.json',lines=True)\n",
    "\n",
    "# create geodataframe\n",
    "bizGdf = gpd.GeoDataFrame(biz, geometry=gpd.points_from_xy(biz.longitude, biz.latitude), crs='EPSG:4326')\n",
    "\n",
    "# filter for Philadelphia metro area\n",
    "bizPhil = bizGdf[(bizGdf.state == 'PA') | (bizGdf.state == 'NJ') | (bizGdf.state == 'DE')]"
   ]
  },
  {
   "cell_type": "code",
   "execution_count": null,
   "id": "4a45d21f-7b57-4913-bb41-9d66be0f62f0",
   "metadata": {},
   "outputs": [],
   "source": [
    "# plot\n",
    "fig, ax = plt.subplots(figsize=(20,20))\n",
    "bizPhil.to_crs('EPSG: 3857').plot(ax=ax, color = 'red')\n",
    "ctx.add_basemap(ax)\n",
    "\n",
    "plt.savefig('images/yelp_philly.png', dpi=300)"
   ]
  },
  {
   "cell_type": "code",
   "execution_count": null,
   "id": "49504353-7ee4-4bba-b2a9-bbd161d7fe46",
   "metadata": {},
   "outputs": [],
   "source": [
    "# plot\n",
    "fig, ax = plt.subplots(figsize=(20,20))\n",
    "bizGdf.to_crs('EPSG: 3857').plot(ax=ax, color = 'red')\n",
    "ctx.add_basemap(ax)\n",
    "\n",
    "plt.savefig('images/yelp_country.png', dpi=300)"
   ]
  },
  {
   "cell_type": "markdown",
   "id": "cf8e7e45-1f30-42b8-9d59-6550d8df8108",
   "metadata": {},
   "source": [
    "## Bring in reviews for Philadelphia area"
   ]
  },
  {
   "cell_type": "markdown",
   "id": "69b408c1-d080-47dc-886e-e0d690696b0e",
   "metadata": {},
   "source": [
    "<div class=\"alert alert-block alert-danger\">\n",
    "Reset kernel before running loop! Takes 30+ mins to run\n",
    "</div>"
   ]
  },
  {
   "cell_type": "code",
   "execution_count": null,
   "id": "9ee7c227-847f-4c23-8f58-316375717e0c",
   "metadata": {},
   "outputs": [],
   "source": [
    "# create jsonreader object\n",
    "reader = pd.read_json('/Users/harper/Documents/GitHub/yelp_dataset/yelp_academic_dataset_review.json', \n",
    "                    orient = 'records', lines=True, chunksize=1000)\n",
    "\n",
    "# initialize empty dataframe\n",
    "colnames = ['review_id','user_id','business_id','stars','useful','funny','cool','text','date']\n",
    "reviews = pd.DataFrame(columns = colnames)\n",
    "\n",
    "# iterate through, filter for state, then add each chunk to the dataframe.\n",
    "for chunk in reader:\n",
    "    subset = chunk[chunk['business_id'].isin(bizPhil.business_id)]\n",
    "    reviews = pd.concat([reviews, subset])\n",
    "\n"
   ]
  },
  {
   "cell_type": "code",
   "execution_count": null,
   "id": "0686150d-31c4-4f38-bcfd-ac11e48e431c",
   "metadata": {},
   "outputs": [],
   "source": [
    "reviews.to_pickle('data/reviewsPhil.pandas')"
   ]
  },
  {
   "cell_type": "code",
   "execution_count": null,
   "id": "c2bdfe54-bc4d-415f-810f-0a9f3cc4556d",
   "metadata": {},
   "outputs": [],
   "source": [
    "reviews.to_csv('data/reviewsPhil.csv')"
   ]
  },
  {
   "cell_type": "code",
   "execution_count": null,
   "id": "98bbb76f-0ee3-4a3d-956a-85196f7365bf",
   "metadata": {},
   "outputs": [],
   "source": [
    "# just for testing -- dont run\n",
    "limit = 10 \n",
    "for index,chunk in zip(range(limit), reader):\n",
    "    subset = chunk[chunk['business_id'].isin(bizPhil.business_id)]\n",
    "    reviews = pd.concat([reviews, subset])"
   ]
  },
  {
   "cell_type": "markdown",
   "id": "7d80782e-1771-4d1d-b3f0-99d7fd196f7c",
   "metadata": {},
   "source": [
    "## Gay Businesses in Philadelphia"
   ]
  },
  {
   "cell_type": "markdown",
   "id": "474762d3-d784-4ed9-b3bf-d83ccc9acfb2",
   "metadata": {},
   "source": [
    "First, bring in Michael's list of the names of gay businesses in philadelphia. Then subset the bizDf for business names in the gay business list. Then use that subset to bring in review only for those businesses. Then pickle those reviews and bring them over to NLP and just run through that script. "
   ]
  },
  {
   "cell_type": "markdown",
   "id": "bb739447-6787-4bb6-9dc6-4eca585a9a13",
   "metadata": {},
   "source": [
    "## Filter business JSON for gay business in Philadelphia"
   ]
  },
  {
   "cell_type": "code",
   "execution_count": 2,
   "id": "fec2b12d-ab75-48d1-9676-898df3a489a4",
   "metadata": {},
   "outputs": [],
   "source": [
    "# read in gay businesses and biz id \n",
    "gaybiz = pd.read_csv('data/philly_gay_businesses.csv')"
   ]
  },
  {
   "cell_type": "code",
   "execution_count": 3,
   "id": "74c57f32-5ba4-4163-8214-7e9c37069d3e",
   "metadata": {},
   "outputs": [],
   "source": [
    "# create jsonreader object\n",
    "reader = pd.read_json('/Users/harper/Documents/GitHub/yelp_dataset/yelp_academic_dataset_review.json', \n",
    "                    orient = 'records', lines=True, chunksize=10000)\n",
    "\n",
    "# initialize empty dataframe\n",
    "colnames = ['review_id','user_id','business_id','stars','useful','funny','cool','text','date']\n",
    "reviews = pd.DataFrame(columns = colnames)\n",
    "\n",
    "# iterate through, filter for state, then add each chunk to the dataframe.\n",
    "for chunk in reader:\n",
    "    subset = chunk[chunk['business_id'].isin(gaybiz.business_id)]\n",
    "    reviews = pd.concat([reviews, subset])"
   ]
  },
  {
   "cell_type": "code",
   "execution_count": 4,
   "id": "87134ba5-c444-4099-ac52-7675b455a304",
   "metadata": {},
   "outputs": [],
   "source": [
    "reviews.to_pickle('data/gay_reviews_phil.pandas')"
   ]
  },
  {
   "cell_type": "code",
   "execution_count": 5,
   "id": "d81ef4a1-2b13-4ae4-8195-45e266680366",
   "metadata": {},
   "outputs": [],
   "source": [
    "reviews.to_csv('data/gay_reviews_phil.csv')"
   ]
  },
  {
   "cell_type": "code",
   "execution_count": null,
   "id": "d9d9c95a-77c9-4081-bbd9-188f041b6a55",
   "metadata": {},
   "outputs": [],
   "source": [
    "# just for testing -- dont run\n",
    "limit = 10 \n",
    "for index,chunk in zip(range(limit), reader):\n",
    "    subset = chunk[chunk['business_id'].isin(bizPhil.business_id)]\n",
    "    reviews = pd.concat([reviews, subset])"
   ]
  }
 ],
 "metadata": {
  "kernelspec": {
   "display_name": "Python 3 (ipykernel)",
   "language": "python",
   "name": "python3"
  },
  "language_info": {
   "codemirror_mode": {
    "name": "ipython",
    "version": 3
   },
   "file_extension": ".py",
   "mimetype": "text/x-python",
   "name": "python",
   "nbconvert_exporter": "python",
   "pygments_lexer": "ipython3",
   "version": "3.8.13"
  }
 },
 "nbformat": 4,
 "nbformat_minor": 5
}
