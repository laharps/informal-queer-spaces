{
 "cells": [
  {
   "cell_type": "markdown",
   "id": "ce58c92a-e3cf-454e-bf9f-c0550aa953f4",
   "metadata": {},
   "source": [
    "# Natural Language Processing"
   ]
  },
  {
   "cell_type": "markdown",
   "id": "2fa008d3-be0c-4f6e-9476-e555343a4109",
   "metadata": {},
   "source": [
    "This notebook uses the reviews dataframe for Philadelphia to identify key words in all of the reviews.\n",
    "\n",
    "<i> Next up, create a subset of reviews for known gay businesses using the business_id. Run the same NLP code to generate a list of gay words."
   ]
  },
  {
   "cell_type": "code",
   "execution_count": 1,
   "id": "ecbcfe4c-91db-4faa-a9ab-aae36b384103",
   "metadata": {},
   "outputs": [
    {
     "name": "stderr",
     "output_type": "stream",
     "text": [
      "[nltk_data] Downloading package stopwords to\n",
      "[nltk_data]     /Users/harper/nltk_data...\n",
      "[nltk_data]   Package stopwords is already up-to-date!\n",
      "[nltk_data] Downloading package punkt to /Users/harper/nltk_data...\n",
      "[nltk_data]   Package punkt is already up-to-date!\n"
     ]
    },
    {
     "data": {
      "text/plain": [
       "True"
      ]
     },
     "execution_count": 1,
     "metadata": {},
     "output_type": "execute_result"
    }
   ],
   "source": [
    "import pandas as pd\n",
    "import geopandas as gpd\n",
    "\n",
    "import nltk\n",
    "from nltk.corpus import stopwords\n",
    "from nltk.tokenize import word_tokenize, sent_tokenize\n",
    "\n",
    "import re\n",
    "nltk.download('stopwords')\n",
    "nltk.download('punkt')"
   ]
  },
  {
   "cell_type": "code",
   "execution_count": 2,
   "id": "0220b820-2074-476d-a785-c25cf7cbf1db",
   "metadata": {},
   "outputs": [],
   "source": [
    "reviews = pd.read_pickle('data/reviewsPhil.pandas')\n",
    "reviews.reset_index(inplace=True)"
   ]
  },
  {
   "cell_type": "markdown",
   "id": "d3020398-7f06-45e9-9c51-1e617196586a",
   "metadata": {},
   "source": [
    "Let's look at the reviews dataframe."
   ]
  },
  {
   "cell_type": "code",
   "execution_count": 3,
   "id": "65834f29-d21c-40b1-9875-188315b7f1aa",
   "metadata": {},
   "outputs": [
    {
     "name": "stdout",
     "output_type": "stream",
     "text": [
      "There are 1930159 total reviews for 44840 unique businesses.\n",
      "0    If you decide to eat here, just be aware it is...\n",
      "1    I've taken a lot of spin classes over the year...\n",
      "2    Wow!  Yummy, different,  delicious.   Our favo...\n",
      "3    I am a long term frequent customer of this est...\n",
      "4    Amazingly amazing wings and homemade bleu chee...\n",
      "Name: text, dtype: object\n"
     ]
    }
   ],
   "source": [
    "print('There are '+str(len(reviews)) + ' total reviews for '+ str(len(reviews.business_id.unique())) + ' unique businesses.')\n",
    "print(reviews.text.head())"
   ]
  },
  {
   "cell_type": "markdown",
   "id": "41198ed7-26fe-4033-9a31-32629ac4ade6",
   "metadata": {},
   "source": [
    "## Simple Word Counts"
   ]
  },
  {
   "cell_type": "markdown",
   "id": "97aeacc8-a43f-451a-8990-9e4fa9a4daa7",
   "metadata": {},
   "source": [
    "First, I'll put all the reviews into one massive string."
   ]
  },
  {
   "cell_type": "code",
   "execution_count": 4,
   "id": "8a9b6497-c29e-4f8f-9d79-58c5dcf26981",
   "metadata": {},
   "outputs": [],
   "source": [
    "s = \"\"\n",
    "for i in range(len(reviews)):\n",
    "    s+=reviews['text'][i]"
   ]
  },
  {
   "cell_type": "markdown",
   "id": "ac10d417-6cd9-439c-bd4c-fae313aa60cc",
   "metadata": {},
   "source": [
    "Now split up all the words, clean out symbols and stopwords, and count them!"
   ]
  },
  {
   "cell_type": "code",
   "execution_count": 5,
   "id": "d6beed28-1a7c-4fa8-b7ee-ccce9d9b4e3a",
   "metadata": {},
   "outputs": [
    {
     "data": {
      "text/html": [
       "<div>\n",
       "<style scoped>\n",
       "    .dataframe tbody tr th:only-of-type {\n",
       "        vertical-align: middle;\n",
       "    }\n",
       "\n",
       "    .dataframe tbody tr th {\n",
       "        vertical-align: top;\n",
       "    }\n",
       "\n",
       "    .dataframe thead th {\n",
       "        text-align: right;\n",
       "    }\n",
       "</style>\n",
       "<table border=\"1\" class=\"dataframe\">\n",
       "  <thead>\n",
       "    <tr style=\"text-align: right;\">\n",
       "      <th></th>\n",
       "      <th>word_count</th>\n",
       "    </tr>\n",
       "    <tr>\n",
       "      <th>word</th>\n",
       "      <th></th>\n",
       "    </tr>\n",
       "  </thead>\n",
       "  <tbody>\n",
       "    <tr>\n",
       "      <th>food</th>\n",
       "      <td>975227</td>\n",
       "    </tr>\n",
       "    <tr>\n",
       "      <th>good</th>\n",
       "      <td>902067</td>\n",
       "    </tr>\n",
       "    <tr>\n",
       "      <th>place</th>\n",
       "      <td>868397</td>\n",
       "    </tr>\n",
       "    <tr>\n",
       "      <th>great</th>\n",
       "      <td>736548</td>\n",
       "    </tr>\n",
       "    <tr>\n",
       "      <th>like</th>\n",
       "      <td>629904</td>\n",
       "    </tr>\n",
       "    <tr>\n",
       "      <th>time</th>\n",
       "      <td>616062</td>\n",
       "    </tr>\n",
       "    <tr>\n",
       "      <th>get</th>\n",
       "      <td>600139</td>\n",
       "    </tr>\n",
       "    <tr>\n",
       "      <th>one</th>\n",
       "      <td>583531</td>\n",
       "    </tr>\n",
       "    <tr>\n",
       "      <th>service</th>\n",
       "      <td>579999</td>\n",
       "    </tr>\n",
       "    <tr>\n",
       "      <th>would</th>\n",
       "      <td>562962</td>\n",
       "    </tr>\n",
       "  </tbody>\n",
       "</table>\n",
       "</div>"
      ],
      "text/plain": [
       "         word_count\n",
       "word               \n",
       "food         975227\n",
       "good         902067\n",
       "place        868397\n",
       "great        736548\n",
       "like         629904\n",
       "time         616062\n",
       "get          600139\n",
       "one          583531\n",
       "service      579999\n",
       "would        562962"
      ]
     },
     "execution_count": 5,
     "metadata": {},
     "output_type": "execute_result"
    }
   ],
   "source": [
    "def countWords(wordlist):\n",
    "    counts = {} \n",
    "    \n",
    "    for word in wordlist:\n",
    "        lword = word.lower()\n",
    "        if lword in counts:\n",
    "            counts[lword] +=1\n",
    "        else:\n",
    "            counts[lword] = 1\n",
    "\n",
    "    df = pd.DataFrame.from_dict(counts, orient='index', columns=['word_count'])\n",
    "    df.sort_values('word_count', ascending=False, inplace=True)\n",
    "    df.index.name = 'word'\n",
    "    \n",
    "    return df\n",
    "\n",
    "wordlist = word_tokenize(re.sub(r\"[^A-z\\s]\", \"\", s))\n",
    "\n",
    "df = countWords(wordlist)\n",
    "df.drop(index=stopwords.words('english'), errors='ignore', inplace=True)\n",
    "\n",
    "df.head(10)"
   ]
  },
  {
   "cell_type": "code",
   "execution_count": 6,
   "id": "978acfa7-5c0f-4d48-8b8d-ed6b63a7f3da",
   "metadata": {},
   "outputs": [],
   "source": [
    "df.to_pickle('wordcounts_all.pandas')"
   ]
  },
  {
   "cell_type": "code",
   "execution_count": null,
   "id": "8fc945ff-1c01-423c-b3fd-bdd95891c593",
   "metadata": {},
   "outputs": [],
   "source": []
  }
 ],
 "metadata": {
  "kernelspec": {
   "display_name": "Python 3 (ipykernel)",
   "language": "python",
   "name": "python3"
  },
  "language_info": {
   "codemirror_mode": {
    "name": "ipython",
    "version": 3
   },
   "file_extension": ".py",
   "mimetype": "text/x-python",
   "name": "python",
   "nbconvert_exporter": "python",
   "pygments_lexer": "ipython3",
   "version": "3.8.13"
  }
 },
 "nbformat": 4,
 "nbformat_minor": 5
}
