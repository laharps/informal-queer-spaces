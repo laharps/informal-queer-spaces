{
 "cells": [
  {
   "cell_type": "markdown",
   "id": "f7abbfec-63f8-4857-b7da-24c4a8ffaeec",
   "metadata": {
    "tags": []
   },
   "source": [
    "# All Businesses in Philadelphia\n",
    "\n",
    "This notebook uses a list of gay words (created in the NLP notebook from existing gay business reviews) to find other gay business that are not tagged as such. \n",
    "\n",
    "I will bring in the dataframe that contains all reviews for Philadelphia (Created in Process Yelp) and count the number of times each gay word appears in a business' reviews. \n",
    "\n",
    "The output of this notebook is a list of Yelp Business IDs of our newly identified queer businesses. I'll take that list into our final notebook to analyze those businesses through mapping and inspecting other attributes. "
   ]
  },
  {
   "cell_type": "code",
   "execution_count": 1,
   "id": "fed39c47-0d87-49fc-a673-01ef0c69a65e",
   "metadata": {},
   "outputs": [
    {
     "name": "stderr",
     "output_type": "stream",
     "text": [
      "[nltk_data] Downloading package stopwords to\n",
      "[nltk_data]     /Users/harper/nltk_data...\n",
      "[nltk_data]   Package stopwords is already up-to-date!\n",
      "[nltk_data] Downloading package punkt to /Users/harper/nltk_data...\n",
      "[nltk_data]   Package punkt is already up-to-date!\n"
     ]
    }
   ],
   "source": [
    "import pandas as pd\n",
    "import geopandas as gpd\n",
    "\n",
    "import nltk\n",
    "from nltk.corpus import stopwords\n",
    "from nltk.tokenize import word_tokenize, sent_tokenize\n",
    "from nltk import ngrams, FreqDist\n",
    "\n",
    "import re\n",
    "nltk.download('stopwords')\n",
    "nltk.download('punkt')\n",
    "\n",
    "from collections import Counter"
   ]
  },
  {
   "cell_type": "markdown",
   "id": "2c1f6006-7ac4-44df-aa6c-05394d155b07",
   "metadata": {},
   "source": [
    "First, I'll bring in the reviews. Then, I want to create a dataframe where the index is the business_id and each row is all the reviews smashed together. Essentially, there is one bag of reviews for each business."
   ]
  },
  {
   "cell_type": "code",
   "execution_count": 2,
   "id": "4f5f07b3-03a6-476b-a806-99d00b1c0e29",
   "metadata": {},
   "outputs": [],
   "source": [
    "# bring in all reviews in philadelphia\n",
    "reviews = pd.read_pickle('data/reviewsPhil.pandas')"
   ]
  },
  {
   "cell_type": "code",
   "execution_count": 3,
   "id": "3d873645-61ec-441e-9d42-0d79e9647201",
   "metadata": {},
   "outputs": [],
   "source": [
    "# standardize the reviews text\n",
    "reviews['text'] = reviews['text'].fillna('').astype(str)\n",
    "\n",
    "# group by business_id and sum\n",
    "bizDf = reviews.groupby('business_id')['text'].sum().to_frame()"
   ]
  },
  {
   "cell_type": "markdown",
   "id": "dca1c026-02fa-4b37-9fe7-95c839cb9369",
   "metadata": {},
   "source": [
    "Next, I'll clean each of the review bags to remove whitespaces and other characters and make lowercase. I'll also need to tokenize so I can count words in the next step."
   ]
  },
  {
   "cell_type": "markdown",
   "id": "d9d4ebff-c89d-4356-9d31-c490f6bac57d",
   "metadata": {},
   "source": [
    "<i> ok this is a big ass df to work with. I want to clean the text for each row and then I want to do counts. Might need to make a function that does both of those, then run the function in chunks."
   ]
  },
  {
   "cell_type": "code",
   "execution_count": 7,
   "id": "192c45bd-8860-484d-985a-619236c624e4",
   "metadata": {},
   "outputs": [],
   "source": [
    "def FindNewGays(in_df):\n",
    "    \n",
    "    # clean all the text and tokenize\n",
    "    df = in_df.text.apply(lambda item: item.lower()).apply(lambda item: word_tokenize(re.sub(r\"[^A-z\\s]\", \"\", item))).to_frame()\n",
    "    \n",
    "    # remove stopwords\n",
    "    df['text'] = df['text'].apply(lambda review: [word for word in review if (word not in mystop)])\n",
    "\n",
    "    # make column with gay words extracted\n",
    "    df['gay_text'] = df['text'].apply(lambda review: [word for word in review if (word in gay_words)])\n",
    "\n",
    "    # create new dataframe only with businesses that have at least one gay word in the reviews\n",
    "    newgayDf = df[df['gay_text'].apply(lambda x: len(x) >0)].copy()\n",
    "\n",
    "    # count number of words for each business and sort\n",
    "    newgayDf['gay_text_len'] = newgayDf.gay_text.apply(lambda x: len(x))\n",
    "    newgayDf.sort_values('gay_text_len', ascending=False, inplace=True)\n",
    "\n",
    "    # create frequency distribution of gay words for each business\n",
    "    newgayDf['gay_counts'] = newgayDf['gay_text'].apply(lambda words: Counter(words))\n",
    "\n",
    "    # count unique gay words for each business\n",
    "    newgayDf['gay_unique_count'] = newgayDf['gay_counts'].apply(lambda freq: len(freq.keys()))\n",
    "\n",
    "    return newgayDf\n"
   ]
  },
  {
   "cell_type": "code",
   "execution_count": 8,
   "id": "c6af4cbd-3e40-4082-a6db-ae0ef29ef496",
   "metadata": {},
   "outputs": [
    {
     "name": "stderr",
     "output_type": "stream",
     "text": [
      "/var/folders/k0/xycc5v7d3bxbjf5td8f_0rkm0000gn/T/ipykernel_89355/931298985.py:16: SettingWithCopyWarning: \n",
      "A value is trying to be set on a copy of a slice from a DataFrame.\n",
      "Try using .loc[row_indexer,col_indexer] = value instead\n",
      "\n",
      "See the caveats in the documentation: https://pandas.pydata.org/pandas-docs/stable/user_guide/indexing.html#returning-a-view-versus-a-copy\n",
      "  newgayDf['gay_text_len'] = newgayDf.gay_text.apply(lambda x: len(x))\n",
      "/var/folders/k0/xycc5v7d3bxbjf5td8f_0rkm0000gn/T/ipykernel_89355/931298985.py:17: SettingWithCopyWarning: \n",
      "A value is trying to be set on a copy of a slice from a DataFrame\n",
      "\n",
      "See the caveats in the documentation: https://pandas.pydata.org/pandas-docs/stable/user_guide/indexing.html#returning-a-view-versus-a-copy\n",
      "  newgayDf.sort_values('gay_text_len', ascending=False, inplace=True)\n",
      "/var/folders/k0/xycc5v7d3bxbjf5td8f_0rkm0000gn/T/ipykernel_89355/931298985.py:20: SettingWithCopyWarning: \n",
      "A value is trying to be set on a copy of a slice from a DataFrame.\n",
      "Try using .loc[row_indexer,col_indexer] = value instead\n",
      "\n",
      "See the caveats in the documentation: https://pandas.pydata.org/pandas-docs/stable/user_guide/indexing.html#returning-a-view-versus-a-copy\n",
      "  newgayDf['gay_counts'] = newgayDf['gay_text'].apply(lambda words: Counter(words))\n",
      "/var/folders/k0/xycc5v7d3bxbjf5td8f_0rkm0000gn/T/ipykernel_89355/931298985.py:23: SettingWithCopyWarning: \n",
      "A value is trying to be set on a copy of a slice from a DataFrame.\n",
      "Try using .loc[row_indexer,col_indexer] = value instead\n",
      "\n",
      "See the caveats in the documentation: https://pandas.pydata.org/pandas-docs/stable/user_guide/indexing.html#returning-a-view-versus-a-copy\n",
      "  newgayDf['gay_unique_count'] = newgayDf['gay_counts'].apply(lambda freq: len(freq.keys()))\n"
     ]
    }
   ],
   "source": [
    "gay_words = ['gay','drag','queen','queer','queens','lgbt','bear','lesbian','gays','lgbtq','homophobic','bears','trans','lesbians','transgender','dyke','twinks','queers','homosexual','bisexual','homosexuals']\n",
    "mystop = stopwords.words('english')\n",
    "\n",
    "newgayDf = FindNewGays(bizDf)\n",
    "\n",
    "newgayDf.to_pickle('data/newgaybiz.pandas')"
   ]
  },
  {
   "cell_type": "code",
   "execution_count": 10,
   "id": "d1926b6a-58c0-4f0f-a9b9-b7f205d18339",
   "metadata": {},
   "outputs": [
    {
     "ename": "KeyError",
     "evalue": "\"['business_id'] not in index\"",
     "output_type": "error",
     "traceback": [
      "\u001b[0;31m---------------------------------------------------------------------------\u001b[0m",
      "\u001b[0;31mKeyError\u001b[0m                                  Traceback (most recent call last)",
      "Input \u001b[0;32mIn [10]\u001b[0m, in \u001b[0;36m<cell line: 1>\u001b[0;34m()\u001b[0m\n\u001b[0;32m----> 1\u001b[0m newgayList \u001b[38;5;241m=\u001b[39m \u001b[43mnewgayDf\u001b[49m\u001b[43m[\u001b[49m\u001b[43m[\u001b[49m\u001b[38;5;124;43m'\u001b[39;49m\u001b[38;5;124;43mbusiness_id\u001b[39;49m\u001b[38;5;124;43m'\u001b[39;49m\u001b[43m,\u001b[49m\u001b[43m \u001b[49m\u001b[38;5;124;43m'\u001b[39;49m\u001b[38;5;124;43mgay_text_len\u001b[39;49m\u001b[38;5;124;43m'\u001b[39;49m\u001b[43m,\u001b[49m\u001b[43m \u001b[49m\u001b[38;5;124;43m'\u001b[39;49m\u001b[38;5;124;43mgay_counts\u001b[39;49m\u001b[38;5;124;43m'\u001b[39;49m\u001b[43m]\u001b[49m\u001b[43m]\u001b[49m\n",
      "File \u001b[0;32m~/opt/anaconda3/envs/uds/lib/python3.8/site-packages/pandas/core/frame.py:3511\u001b[0m, in \u001b[0;36mDataFrame.__getitem__\u001b[0;34m(self, key)\u001b[0m\n\u001b[1;32m   3509\u001b[0m     \u001b[38;5;28;01mif\u001b[39;00m is_iterator(key):\n\u001b[1;32m   3510\u001b[0m         key \u001b[38;5;241m=\u001b[39m \u001b[38;5;28mlist\u001b[39m(key)\n\u001b[0;32m-> 3511\u001b[0m     indexer \u001b[38;5;241m=\u001b[39m \u001b[38;5;28;43mself\u001b[39;49m\u001b[38;5;241;43m.\u001b[39;49m\u001b[43mcolumns\u001b[49m\u001b[38;5;241;43m.\u001b[39;49m\u001b[43m_get_indexer_strict\u001b[49m\u001b[43m(\u001b[49m\u001b[43mkey\u001b[49m\u001b[43m,\u001b[49m\u001b[43m \u001b[49m\u001b[38;5;124;43m\"\u001b[39;49m\u001b[38;5;124;43mcolumns\u001b[39;49m\u001b[38;5;124;43m\"\u001b[39;49m\u001b[43m)\u001b[49m[\u001b[38;5;241m1\u001b[39m]\n\u001b[1;32m   3513\u001b[0m \u001b[38;5;66;03m# take() does not accept boolean indexers\u001b[39;00m\n\u001b[1;32m   3514\u001b[0m \u001b[38;5;28;01mif\u001b[39;00m \u001b[38;5;28mgetattr\u001b[39m(indexer, \u001b[38;5;124m\"\u001b[39m\u001b[38;5;124mdtype\u001b[39m\u001b[38;5;124m\"\u001b[39m, \u001b[38;5;28;01mNone\u001b[39;00m) \u001b[38;5;241m==\u001b[39m \u001b[38;5;28mbool\u001b[39m:\n",
      "File \u001b[0;32m~/opt/anaconda3/envs/uds/lib/python3.8/site-packages/pandas/core/indexes/base.py:5782\u001b[0m, in \u001b[0;36mIndex._get_indexer_strict\u001b[0;34m(self, key, axis_name)\u001b[0m\n\u001b[1;32m   5779\u001b[0m \u001b[38;5;28;01melse\u001b[39;00m:\n\u001b[1;32m   5780\u001b[0m     keyarr, indexer, new_indexer \u001b[38;5;241m=\u001b[39m \u001b[38;5;28mself\u001b[39m\u001b[38;5;241m.\u001b[39m_reindex_non_unique(keyarr)\n\u001b[0;32m-> 5782\u001b[0m \u001b[38;5;28;43mself\u001b[39;49m\u001b[38;5;241;43m.\u001b[39;49m\u001b[43m_raise_if_missing\u001b[49m\u001b[43m(\u001b[49m\u001b[43mkeyarr\u001b[49m\u001b[43m,\u001b[49m\u001b[43m \u001b[49m\u001b[43mindexer\u001b[49m\u001b[43m,\u001b[49m\u001b[43m \u001b[49m\u001b[43maxis_name\u001b[49m\u001b[43m)\u001b[49m\n\u001b[1;32m   5784\u001b[0m keyarr \u001b[38;5;241m=\u001b[39m \u001b[38;5;28mself\u001b[39m\u001b[38;5;241m.\u001b[39mtake(indexer)\n\u001b[1;32m   5785\u001b[0m \u001b[38;5;28;01mif\u001b[39;00m \u001b[38;5;28misinstance\u001b[39m(key, Index):\n\u001b[1;32m   5786\u001b[0m     \u001b[38;5;66;03m# GH 42790 - Preserve name from an Index\u001b[39;00m\n",
      "File \u001b[0;32m~/opt/anaconda3/envs/uds/lib/python3.8/site-packages/pandas/core/indexes/base.py:5845\u001b[0m, in \u001b[0;36mIndex._raise_if_missing\u001b[0;34m(self, key, indexer, axis_name)\u001b[0m\n\u001b[1;32m   5842\u001b[0m     \u001b[38;5;28;01mraise\u001b[39;00m \u001b[38;5;167;01mKeyError\u001b[39;00m(\u001b[38;5;124mf\u001b[39m\u001b[38;5;124m\"\u001b[39m\u001b[38;5;124mNone of [\u001b[39m\u001b[38;5;132;01m{\u001b[39;00mkey\u001b[38;5;132;01m}\u001b[39;00m\u001b[38;5;124m] are in the [\u001b[39m\u001b[38;5;132;01m{\u001b[39;00maxis_name\u001b[38;5;132;01m}\u001b[39;00m\u001b[38;5;124m]\u001b[39m\u001b[38;5;124m\"\u001b[39m)\n\u001b[1;32m   5844\u001b[0m not_found \u001b[38;5;241m=\u001b[39m \u001b[38;5;28mlist\u001b[39m(ensure_index(key)[missing_mask\u001b[38;5;241m.\u001b[39mnonzero()[\u001b[38;5;241m0\u001b[39m]]\u001b[38;5;241m.\u001b[39munique())\n\u001b[0;32m-> 5845\u001b[0m \u001b[38;5;28;01mraise\u001b[39;00m \u001b[38;5;167;01mKeyError\u001b[39;00m(\u001b[38;5;124mf\u001b[39m\u001b[38;5;124m\"\u001b[39m\u001b[38;5;132;01m{\u001b[39;00mnot_found\u001b[38;5;132;01m}\u001b[39;00m\u001b[38;5;124m not in index\u001b[39m\u001b[38;5;124m\"\u001b[39m)\n",
      "\u001b[0;31mKeyError\u001b[0m: \"['business_id'] not in index\""
     ]
    }
   ],
   "source": [
    "newgayList = newgayDf[['business_id', 'gay_text_len', 'gay_counts']]"
   ]
  },
  {
   "cell_type": "markdown",
   "id": "a490e704-342d-4700-b957-0d5221b13437",
   "metadata": {},
   "source": [
    "## Refine on a Slice\n",
    "Now I need to count the occurence of each gay word in the reviews. "
   ]
  },
  {
   "cell_type": "code",
   "execution_count": null,
   "id": "2242147a-e083-49c4-832d-70c4259d58e4",
   "metadata": {},
   "outputs": [],
   "source": [
    "gay_words = ['gay','drag','queen','queer','queens','lgbt','bear','lesbian','gays','lgbtq','homophobic','bears','trans','lesbians','transgender','dyke','twinks','queers','homosexual','bisexual','homosexuals']"
   ]
  },
  {
   "cell_type": "code",
   "execution_count": null,
   "id": "57eea25e-ed3a-4388-baf4-d320ca94fb1f",
   "metadata": {},
   "outputs": [],
   "source": [
    "# make a slice\n",
    "sliceDf = bizDf.head(1000).copy()"
   ]
  },
  {
   "cell_type": "code",
   "execution_count": null,
   "id": "9bee528d-0146-4a3f-a634-fb627725d2da",
   "metadata": {},
   "outputs": [],
   "source": [
    "# clean up the text and tokenize\n",
    "sliceDf = sliceDf.text.apply(lambda item: item.lower()).apply(lambda item: word_tokenize(re.sub(r\"[^A-z\\s]\", \"\", item))).to_frame()"
   ]
  },
  {
   "cell_type": "code",
   "execution_count": null,
   "id": "cdfc2cc1-2324-44f0-bf17-fb11de5b3af9",
   "metadata": {},
   "outputs": [],
   "source": [
    "# remove stopwords\n",
    "mystop = stopwords.words('english') + ['pm']\n",
    "sliceDf['text'] = sliceDf['text'].apply(lambda review: [word for word in review if (word not in mystop)])"
   ]
  },
  {
   "cell_type": "code",
   "execution_count": null,
   "id": "6856f0f9-6175-4e0c-b032-2b28b7baadc6",
   "metadata": {},
   "outputs": [],
   "source": [
    "# extract gay words into new column\n",
    "sliceDf['gay_text'] = sliceDf['text'].apply(lambda review: [word for word in review if (word in gay_words)])"
   ]
  },
  {
   "cell_type": "code",
   "execution_count": null,
   "id": "c32ce7e2-9bcd-4794-b836-cce3d166cdf7",
   "metadata": {},
   "outputs": [],
   "source": [
    "# subset for businesses with gay words\n",
    "newgayDf = sliceDf[sliceDf['gay_text'].apply(lambda x: len(x) >0)].copy()"
   ]
  },
  {
   "cell_type": "markdown",
   "id": "565f2ceb-d8a0-419b-b153-483882fb86a8",
   "metadata": {},
   "source": [
    "### Time to count! "
   ]
  },
  {
   "cell_type": "code",
   "execution_count": null,
   "id": "de1ec35d-56f9-44bf-9366-36e529ffd21b",
   "metadata": {},
   "outputs": [],
   "source": [
    "# Just count the number of words that were identified. This can be used later to screen out some businesses\n",
    "newgayDf['gay_text_len'] = newgayDf.gay_text.apply(lambda x: len(x))\n",
    "newgayDf.sort_values('gay_text_len', ascending=False, inplace=True)"
   ]
  },
  {
   "cell_type": "code",
   "execution_count": null,
   "id": "74b51ce9-9ab2-43f2-9e83-97919b5aa6ba",
   "metadata": {},
   "outputs": [],
   "source": [
    "# create frequency distribution of gay words for each business \n",
    "newgayDf['gay_counts'] = newgayDf['gay_text'].apply(lambda words: Counter(words))"
   ]
  },
  {
   "cell_type": "code",
   "execution_count": null,
   "id": "a5f2af29-c132-4135-8b20-a52c1eea9d9d",
   "metadata": {},
   "outputs": [],
   "source": [
    "# count unique gay words for each business\n",
    "newgayDf['gay_unique_count'] = newgayDf['gay_counts'].apply(lambda freq: len(freq.keys()))"
   ]
  },
  {
   "cell_type": "markdown",
   "id": "e6bd36d4-608b-4fa2-b6f2-c515aeca550a",
   "metadata": {},
   "source": [
    "## Future Tasks\n",
    "\n",
    "- Drop words that are getting false hits (like bear and drag)\n",
    "- Drop businesses with a few hits\n",
    "- Do manual check of what those businesses are (will need to join newgayDf back to bizPhil)\n",
    "- Get frequency of summation of all gay words\n",
    "- Do ngrams on text and gay text? "
   ]
  },
  {
   "cell_type": "code",
   "execution_count": null,
   "id": "29b8241d-d4fe-44c9-b4cd-4143c385f414",
   "metadata": {},
   "outputs": [],
   "source": []
  },
  {
   "cell_type": "code",
   "execution_count": null,
   "id": "ccac364e-0203-433c-ab0d-0b1fbacc98af",
   "metadata": {},
   "outputs": [],
   "source": []
  }
 ],
 "metadata": {
  "kernelspec": {
   "display_name": "Python 3 (ipykernel)",
   "language": "python",
   "name": "python3"
  },
  "language_info": {
   "codemirror_mode": {
    "name": "ipython",
    "version": 3
   },
   "file_extension": ".py",
   "mimetype": "text/x-python",
   "name": "python",
   "nbconvert_exporter": "python",
   "pygments_lexer": "ipython3",
   "version": "3.8.13"
  }
 },
 "nbformat": 4,
 "nbformat_minor": 5
}
