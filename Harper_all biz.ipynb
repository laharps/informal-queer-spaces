{
 "cells": [
  {
   "cell_type": "markdown",
   "id": "f7abbfec-63f8-4857-b7da-24c4a8ffaeec",
   "metadata": {
    "tags": []
   },
   "source": [
    "# All Businesses in Philadelphia\n",
    "\n",
    "This notebook uses a list of gay words (created in the NLP notebook from existing gay business reviews) to find other gay business that are not tagged as such. \n",
    "\n",
    "I will bring in the dataframe that contains all reviews for Philadelphia (Created in Process Yelp) and count the number of times each gay word appears in a business' reviews. \n",
    "\n",
    "The output of this notebook is a list of Yelp Business IDs of our newly identified queer businesses. I'll take that list into our final notebook to analyze those businesses through mapping and inspecting other attributes. "
   ]
  },
  {
   "cell_type": "code",
   "execution_count": 33,
   "id": "fed39c47-0d87-49fc-a673-01ef0c69a65e",
   "metadata": {},
   "outputs": [
    {
     "name": "stderr",
     "output_type": "stream",
     "text": [
      "[nltk_data] Downloading package stopwords to\n",
      "[nltk_data]     /Users/harper/nltk_data...\n",
      "[nltk_data]   Package stopwords is already up-to-date!\n",
      "[nltk_data] Downloading package punkt to /Users/harper/nltk_data...\n",
      "[nltk_data]   Package punkt is already up-to-date!\n"
     ]
    }
   ],
   "source": [
    "import pandas as pd\n",
    "import geopandas as gpd\n",
    "import matplotlib.pyplot as plt\n",
    "\n",
    "import nltk\n",
    "from nltk.corpus import stopwords\n",
    "from nltk.tokenize import word_tokenize, sent_tokenize\n",
    "from nltk import ngrams, FreqDist\n",
    "\n",
    "import re\n",
    "nltk.download('stopwords')\n",
    "nltk.download('punkt')\n",
    "\n",
    "from collections import Counter"
   ]
  },
  {
   "cell_type": "markdown",
   "id": "2c1f6006-7ac4-44df-aa6c-05394d155b07",
   "metadata": {
    "tags": []
   },
   "source": [
    "# Create newgayDf\n",
    "Create a dataframe that identifies businesses with gay words.\n",
    "\n",
    "First, I'll bring in the reviews. Then, I want to create a dataframe where the index is the business_id and each row is all the reviews smashed together. Essentially, there is one bag of reviews for each business. Next, I'll clean each of the review bags to remove whitespaces and other characters and make lowercase. I'll also need to tokenize so I can count words in the next step.\n",
    "\n",
    "\n",
    "<div class=\"alert alert-block alert-danger\">\n",
    "Don't rerun this! Just use the saved pickle. \n",
    "</div>"
   ]
  },
  {
   "cell_type": "code",
   "execution_count": null,
   "id": "4f5f07b3-03a6-476b-a806-99d00b1c0e29",
   "metadata": {},
   "outputs": [],
   "source": [
    "# bring in all reviews in philadelphia\n",
    "reviews = pd.read_pickle('data/reviewsPhil.pandas')\n",
    "\n",
    "# standardize the reviews text\n",
    "reviews['text'] = reviews['text'].fillna('').astype(str)\n",
    "\n",
    "# group by business_id and sum\n",
    "bizDf = reviews.groupby('business_id')['text'].sum().to_frame()"
   ]
  },
  {
   "cell_type": "code",
   "execution_count": null,
   "id": "192c45bd-8860-484d-985a-619236c624e4",
   "metadata": {},
   "outputs": [],
   "source": [
    "# Create function to clean and count\n",
    "\n",
    "def FindNewGays(in_df):\n",
    "    \n",
    "    # clean all the text and tokenize\n",
    "    df = in_df.text.apply(lambda item: item.lower()).apply(lambda item: word_tokenize(re.sub(r\"[^A-z\\s]\", \"\", item))).to_frame()\n",
    "    \n",
    "    # remove stopwords\n",
    "    df['text'] = df['text'].apply(lambda review: [word for word in review if (word not in mystop)])\n",
    "\n",
    "    # make column with gay words extracted\n",
    "    df['gay_text'] = df['text'].apply(lambda review: [word for word in review if (word in gay_words)])\n",
    "\n",
    "    # create new dataframe only with businesses that have at least one gay word in the reviews\n",
    "    newgayDf = df[df['gay_text'].apply(lambda x: len(x) >0)].copy()\n",
    "\n",
    "    # count number of words for each business and sort\n",
    "    newgayDf['gay_text_len'] = newgayDf.gay_text.apply(lambda x: len(x))\n",
    "    newgayDf.sort_values('gay_text_len', ascending=False, inplace=True)\n",
    "\n",
    "    # create frequency distribution of gay words for each business\n",
    "    newgayDf['gay_counts'] = newgayDf['gay_text'].apply(lambda words: Counter(words))\n",
    "\n",
    "    # count unique gay words for each business\n",
    "    newgayDf['gay_unique_count'] = newgayDf['gay_counts'].apply(lambda freq: len(freq.keys()))\n",
    "\n",
    "    return newgayDf\n"
   ]
  },
  {
   "cell_type": "code",
   "execution_count": null,
   "id": "c6af4cbd-3e40-4082-a6db-ae0ef29ef496",
   "metadata": {},
   "outputs": [],
   "source": [
    "# Run function and create newgaybiz.pandas\n",
    "gay_words = ['gay','drag','queen','queer','queens','lgbt','bear','lesbian','gays','lgbtq','homophobic','bears','trans','lesbians','transgender','dyke','twinks','queers','homosexual','bisexual','homosexuals']\n",
    "mystop = stopwords.words('english')\n",
    "\n",
    "newgayDf = FindNewGays(bizDf)\n",
    "\n",
    "newgayDf.to_pickle('data/newgaybiz.pandas')"
   ]
  },
  {
   "cell_type": "markdown",
   "id": "cfa9f4a6-c627-4d3e-9971-594ee57804f4",
   "metadata": {
    "tags": []
   },
   "source": [
    "# Clean up newgayDf"
   ]
  },
  {
   "cell_type": "code",
   "execution_count": 65,
   "id": "5a500d89-389f-4d9b-be45-6ed960186c75",
   "metadata": {},
   "outputs": [],
   "source": [
    "# read in pickle\n",
    "newgayDf = pd.read_pickle('data/newgaybiz.pandas')"
   ]
  },
  {
   "cell_type": "code",
   "execution_count": 66,
   "id": "e3b5dfcc-b415-4dd7-976d-b1bc763ee0d9",
   "metadata": {},
   "outputs": [],
   "source": [
    "# drop text column for size\n",
    "newgayDf = newgayDf.drop(columns = ['text'])"
   ]
  },
  {
   "cell_type": "code",
   "execution_count": 67,
   "id": "305d4522-f053-4f15-b4c3-705393ef3c73",
   "metadata": {},
   "outputs": [],
   "source": [
    "# make index a column\n",
    "newgayDf.reset_index(inplace=True)\n",
    "newgayDf = newgayDf.rename(columns = {'index':'business_id'})"
   ]
  },
  {
   "cell_type": "code",
   "execution_count": 68,
   "id": "a8f547b4-8345-4391-8781-88cdff49271f",
   "metadata": {},
   "outputs": [],
   "source": [
    "# flag gay businesses we already identified\n",
    "known_gay = pd.read_csv('data/philly_gay_businesses.csv')\n",
    "newgayDf['known'] = newgayDf.business_id.isin(known_gay.business_id)"
   ]
  },
  {
   "cell_type": "code",
   "execution_count": 69,
   "id": "56a1af7b-92d1-4a98-9356-9b209ca4e4c5",
   "metadata": {},
   "outputs": [
    {
     "name": "stdout",
     "output_type": "stream",
     "text": [
      "known\n",
      "False    4879\n",
      "True       28\n",
      "dtype: int64\n",
      "45\n"
     ]
    }
   ],
   "source": [
    "print(newgayDf.groupby('known').size())\n",
    "print(len(known_gay))"
   ]
  },
  {
   "cell_type": "markdown",
   "id": "ca7cefe0-824f-479d-aef5-09581981d64f",
   "metadata": {},
   "source": [
    "Interesting... only 28 our our 45 known gay businesses were picked up using our NLP! While we will pick up new businesses with this method, certainly not all queer identified businesses will be included.\n",
    "\n",
    "\n",
    "Now I want to remove businesses that don't have a significant number of hits. I'll make a histogram to choose the cut off. From the plot and the frequency table, the biggest group is gay_text_len = 1. I'll drop that. Furthermore, the biggest drop-off is at gay_text_len = 5. I will inspect those items and considering dropping them in the future if they are false hits. "
   ]
  },
  {
   "cell_type": "code",
   "execution_count": 70,
   "id": "91185392-95db-414b-afcf-96a517239b0e",
   "metadata": {},
   "outputs": [
    {
     "data": {
      "text/plain": [
       "array([[<AxesSubplot:title={'center':'gay_text_len'}>]], dtype=object)"
      ]
     },
     "execution_count": 70,
     "metadata": {},
     "output_type": "execute_result"
    },
    {
     "data": {
      "image/png": "[encoded data removed]",
      "text/plain": [
       "<Figure size 720x720 with 1 Axes>"
      ]
     },
     "metadata": {
      "needs_background": "light"
     },
     "output_type": "display_data"
    }
   ],
   "source": [
    "# make histogram of gay_text_len\n",
    "newgayDf.hist(column = 'gay_text_len', figsize = (10,10), bins = 50)"
   ]
  },
  {
   "cell_type": "code",
   "execution_count": 71,
   "id": "880c7cce-42f8-42bd-aee9-1db8304d9f2c",
   "metadata": {},
   "outputs": [
    {
     "data": {
      "text/plain": [
       "gay_text_len\n",
       "1     3188\n",
       "2      836\n",
       "3      317\n",
       "4      187\n",
       "5      109\n",
       "6       47\n",
       "7       29\n",
       "8       24\n",
       "9       25\n",
       "10      22\n",
       "11      11\n",
       "12      13\n",
       "13      17\n",
       "14      12\n",
       "15       8\n",
       "dtype: int64"
      ]
     },
     "execution_count": 71,
     "metadata": {},
     "output_type": "execute_result"
    }
   ],
   "source": [
    "newgayDf.groupby('gay_text_len').size().head(15)"
   ]
  },
  {
   "cell_type": "code",
   "execution_count": 72,
   "id": "31ab8c31-6c48-4d4a-9b88-e34a009e6c53",
   "metadata": {},
   "outputs": [
    {
     "data": {
      "text/plain": [
       "1719"
      ]
     },
     "execution_count": 72,
     "metadata": {},
     "output_type": "execute_result"
    }
   ],
   "source": [
    "newgayDf = newgayDf[newgayDf.gay_text_len > 1]\n",
    "len(newgayDf)"
   ]
  },
  {
   "cell_type": "code",
   "execution_count": 73,
   "id": "2318e6da-4c63-41b0-909a-af047eaab945",
   "metadata": {},
   "outputs": [],
   "source": [
    "newgayDf.to_pickle('data/newgaybiz_clean.pandas')"
   ]
  },
  {
   "cell_type": "markdown",
   "id": "a490e704-342d-4700-b957-0d5221b13437",
   "metadata": {
    "jp-MarkdownHeadingCollapsed": true,
    "tags": []
   },
   "source": [
    "## Test on a Slice\n",
    "Experiment with code to run on the big massive review df"
   ]
  },
  {
   "cell_type": "code",
   "execution_count": null,
   "id": "2242147a-e083-49c4-832d-70c4259d58e4",
   "metadata": {},
   "outputs": [],
   "source": [
    "gay_words = ['gay','drag','queen','queer','queens','lgbt','bear','lesbian','gays','lgbtq','homophobic','bears','trans','lesbians','transgender','dyke','twinks','queers','homosexual','bisexual','homosexuals']"
   ]
  },
  {
   "cell_type": "code",
   "execution_count": null,
   "id": "57eea25e-ed3a-4388-baf4-d320ca94fb1f",
   "metadata": {},
   "outputs": [],
   "source": [
    "# make a slice\n",
    "sliceDf = bizDf.head(1000).copy()"
   ]
  },
  {
   "cell_type": "code",
   "execution_count": null,
   "id": "9bee528d-0146-4a3f-a634-fb627725d2da",
   "metadata": {},
   "outputs": [],
   "source": [
    "# clean up the text and tokenize\n",
    "sliceDf = sliceDf.text.apply(lambda item: item.lower()).apply(lambda item: word_tokenize(re.sub(r\"[^A-z\\s]\", \"\", item))).to_frame()"
   ]
  },
  {
   "cell_type": "code",
   "execution_count": null,
   "id": "cdfc2cc1-2324-44f0-bf17-fb11de5b3af9",
   "metadata": {},
   "outputs": [],
   "source": [
    "# remove stopwords\n",
    "mystop = stopwords.words('english')\n",
    "sliceDf['text'] = sliceDf['text'].apply(lambda review: [word for word in review if (word not in mystop)])"
   ]
  },
  {
   "cell_type": "code",
   "execution_count": null,
   "id": "6856f0f9-6175-4e0c-b032-2b28b7baadc6",
   "metadata": {},
   "outputs": [],
   "source": [
    "# extract gay words into new column\n",
    "sliceDf['gay_text'] = sliceDf['text'].apply(lambda review: [word for word in review if (word in gay_words)])\n",
    "sliceDf"
   ]
  },
  {
   "cell_type": "code",
   "execution_count": null,
   "id": "c32ce7e2-9bcd-4794-b836-cce3d166cdf7",
   "metadata": {},
   "outputs": [],
   "source": [
    "# subset for businesses with gay words\n",
    "newgayDf = sliceDf[sliceDf['gay_text'].apply(lambda x: len(x) >0)].copy()"
   ]
  },
  {
   "cell_type": "code",
   "execution_count": null,
   "id": "6b870a58-e00a-4588-ace5-3a5749d830b5",
   "metadata": {},
   "outputs": [],
   "source": [
    "newgayDf"
   ]
  },
  {
   "cell_type": "code",
   "execution_count": null,
   "id": "de1ec35d-56f9-44bf-9366-36e529ffd21b",
   "metadata": {},
   "outputs": [],
   "source": [
    "# Just count the number of words that were identified. This can be used later to screen out some businesses\n",
    "newgayDf['gay_text_len'] = newgayDf.gay_text.apply(lambda x: len(x))\n",
    "newgayDf.sort_values('gay_text_len', ascending=False, inplace=True)\n",
    "newgayDf"
   ]
  },
  {
   "cell_type": "code",
   "execution_count": null,
   "id": "74b51ce9-9ab2-43f2-9e83-97919b5aa6ba",
   "metadata": {},
   "outputs": [],
   "source": [
    "# create frequency distribution of gay words for each business \n",
    "newgayDf['gay_counts'] = newgayDf['gay_text'].apply(lambda words: Counter(words))\n",
    "newgayDf"
   ]
  },
  {
   "cell_type": "code",
   "execution_count": null,
   "id": "a5f2af29-c132-4135-8b20-a52c1eea9d9d",
   "metadata": {},
   "outputs": [],
   "source": [
    "# count unique gay words for each business\n",
    "newgayDf['gay_unique_count'] = newgayDf['gay_counts'].apply(lambda freq: len(freq.keys()))\n",
    "newgayDf"
   ]
  },
  {
   "cell_type": "markdown",
   "id": "e6bd36d4-608b-4fa2-b6f2-c515aeca550a",
   "metadata": {},
   "source": [
    "## Future Tasks\n",
    "\n",
    "- Drop words that are getting false hits (like bear and drag)\n",
    "- Drop businesses with a few hits\n",
    "- Do manual check of what those businesses are (will need to join newgayDf back to bizPhil)\n",
    "- Get frequency of summation of all gay words\n",
    "- Do ngrams on text and gay text? \n",
    "- flag our previously identified businesses\n"
   ]
  },
  {
   "cell_type": "code",
   "execution_count": null,
   "id": "29b8241d-d4fe-44c9-b4cd-4143c385f414",
   "metadata": {},
   "outputs": [],
   "source": []
  },
  {
   "cell_type": "code",
   "execution_count": null,
   "id": "ccac364e-0203-433c-ab0d-0b1fbacc98af",
   "metadata": {},
   "outputs": [],
   "source": []
  }
 ],
 "metadata": {
  "kernelspec": {
   "display_name": "Python 3 (ipykernel)",
   "language": "python",
   "name": "python3"
  },
  "language_info": {
   "codemirror_mode": {
    "name": "ipython",
    "version": 3
   },
   "file_extension": ".py",
   "mimetype": "text/x-python",
   "name": "python",
   "nbconvert_exporter": "python",
   "pygments_lexer": "ipython3",
   "version": "3.8.13"
  }
 },
 "nbformat": 4,
 "nbformat_minor": 5
}
