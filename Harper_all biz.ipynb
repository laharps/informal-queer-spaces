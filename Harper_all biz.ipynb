{
 "cells": [
  {
   "cell_type": "markdown",
   "id": "f7abbfec-63f8-4857-b7da-24c4a8ffaeec",
   "metadata": {
    "tags": []
   },
   "source": [
    "# All Businesses in Philadelphia\n",
    "\n",
    "This notebook uses a list of gay words (created in the NLP notebook from existing gay business reviews) to find other gay business that are not tagged as such. \n",
    "\n",
    "I will bring in the dataframe that contains all reviews for Philadelphia (Created in Process Yelp) and count the number of times each gay word appears in a business' reviews. \n",
    "\n",
    "The output of this notebook is a list of Yelp Business IDs of our newly identified queer businesses. I'll take that list into our final notebook to analyze those businesses through mapping and inspecting other attributes. "
   ]
  },
  {
   "cell_type": "code",
   "execution_count": 2,
   "id": "fed39c47-0d87-49fc-a673-01ef0c69a65e",
   "metadata": {},
   "outputs": [
    {
     "name": "stderr",
     "output_type": "stream",
     "text": [
      "[nltk_data] Downloading package stopwords to\n",
      "[nltk_data]     /Users/harper/nltk_data...\n",
      "[nltk_data]   Package stopwords is already up-to-date!\n",
      "[nltk_data] Downloading package punkt to /Users/harper/nltk_data...\n",
      "[nltk_data]   Package punkt is already up-to-date!\n"
     ]
    }
   ],
   "source": [
    "import pandas as pd\n",
    "import geopandas as gpd\n",
    "import matplotlib.pyplot as plt\n",
    "\n",
    "import nltk\n",
    "from nltk.corpus import stopwords\n",
    "from nltk.tokenize import word_tokenize, sent_tokenize\n",
    "from nltk import ngrams, FreqDist\n",
    "\n",
    "import re\n",
    "nltk.download('stopwords')\n",
    "nltk.download('punkt')\n",
    "\n",
    "from collections import Counter"
   ]
  },
  {
   "cell_type": "markdown",
   "id": "2c1f6006-7ac4-44df-aa6c-05394d155b07",
   "metadata": {
    "tags": []
   },
   "source": [
    "# Create newgayDf\n",
    "Create a dataframe that identifies businesses with gay words.\n",
    "\n",
    "First, I'll bring in the reviews. Then, I want to create a dataframe where the index is the business_id and each row is all the reviews smashed together. Essentially, there is one bag of reviews for each business. Next, I'll clean each of the review bags to remove whitespaces and other characters and make lowercase. I'll also need to tokenize so I can count words in the next step.\n",
    "\n",
    "\n",
    "<div class=\"alert alert-block alert-danger\">\n",
    "Don't rerun this! Just use the saved pickle. \n",
    "</div>"
   ]
  },
  {
   "cell_type": "code",
   "execution_count": 3,
   "id": "4f5f07b3-03a6-476b-a806-99d00b1c0e29",
   "metadata": {},
   "outputs": [
    {
     "ename": "KeyboardInterrupt",
     "evalue": "",
     "output_type": "error",
     "traceback": [
      "\u001b[0;31m---------------------------------------------------------------------------\u001b[0m",
      "\u001b[0;31mKeyboardInterrupt\u001b[0m                         Traceback (most recent call last)",
      "Input \u001b[0;32mIn [3]\u001b[0m, in \u001b[0;36m<cell line: 8>\u001b[0;34m()\u001b[0m\n\u001b[1;32m      5\u001b[0m reviews[\u001b[38;5;124m'\u001b[39m\u001b[38;5;124mtext\u001b[39m\u001b[38;5;124m'\u001b[39m] \u001b[38;5;241m=\u001b[39m reviews[\u001b[38;5;124m'\u001b[39m\u001b[38;5;124mtext\u001b[39m\u001b[38;5;124m'\u001b[39m]\u001b[38;5;241m.\u001b[39mfillna(\u001b[38;5;124m'\u001b[39m\u001b[38;5;124m'\u001b[39m)\u001b[38;5;241m.\u001b[39mastype(\u001b[38;5;28mstr\u001b[39m)\n\u001b[1;32m      7\u001b[0m \u001b[38;5;66;03m# group by business_id and sum\u001b[39;00m\n\u001b[0;32m----> 8\u001b[0m bizDf \u001b[38;5;241m=\u001b[39m \u001b[43mreviews\u001b[49m\u001b[38;5;241;43m.\u001b[39;49m\u001b[43mgroupby\u001b[49m\u001b[43m(\u001b[49m\u001b[38;5;124;43m'\u001b[39;49m\u001b[38;5;124;43mbusiness_id\u001b[39;49m\u001b[38;5;124;43m'\u001b[39;49m\u001b[43m)\u001b[49m\u001b[43m[\u001b[49m\u001b[38;5;124;43m'\u001b[39;49m\u001b[38;5;124;43mtext\u001b[39;49m\u001b[38;5;124;43m'\u001b[39;49m\u001b[43m]\u001b[49m\u001b[38;5;241;43m.\u001b[39;49m\u001b[43msum\u001b[49m\u001b[43m(\u001b[49m\u001b[43m)\u001b[49m\u001b[38;5;241m.\u001b[39mto_frame()\n",
      "File \u001b[0;32m~/opt/anaconda3/envs/uds/lib/python3.8/site-packages/pandas/core/groupby/groupby.py:2189\u001b[0m, in \u001b[0;36mGroupBy.sum\u001b[0;34m(self, numeric_only, min_count, engine, engine_kwargs)\u001b[0m\n\u001b[1;32m   2185\u001b[0m \u001b[38;5;66;03m# If we are grouping on categoricals we want unobserved categories to\u001b[39;00m\n\u001b[1;32m   2186\u001b[0m \u001b[38;5;66;03m# return zero, rather than the default of NaN which the reindexing in\u001b[39;00m\n\u001b[1;32m   2187\u001b[0m \u001b[38;5;66;03m# _agg_general() returns. GH #31422\u001b[39;00m\n\u001b[1;32m   2188\u001b[0m \u001b[38;5;28;01mwith\u001b[39;00m com\u001b[38;5;241m.\u001b[39mtemp_setattr(\u001b[38;5;28mself\u001b[39m, \u001b[38;5;124m\"\u001b[39m\u001b[38;5;124mobserved\u001b[39m\u001b[38;5;124m\"\u001b[39m, \u001b[38;5;28;01mTrue\u001b[39;00m):\n\u001b[0;32m-> 2189\u001b[0m     result \u001b[38;5;241m=\u001b[39m \u001b[38;5;28;43mself\u001b[39;49m\u001b[38;5;241;43m.\u001b[39;49m\u001b[43m_agg_general\u001b[49m\u001b[43m(\u001b[49m\n\u001b[1;32m   2190\u001b[0m \u001b[43m        \u001b[49m\u001b[43mnumeric_only\u001b[49m\u001b[38;5;241;43m=\u001b[39;49m\u001b[43mnumeric_only\u001b[49m\u001b[43m,\u001b[49m\n\u001b[1;32m   2191\u001b[0m \u001b[43m        \u001b[49m\u001b[43mmin_count\u001b[49m\u001b[38;5;241;43m=\u001b[39;49m\u001b[43mmin_count\u001b[49m\u001b[43m,\u001b[49m\n\u001b[1;32m   2192\u001b[0m \u001b[43m        \u001b[49m\u001b[43malias\u001b[49m\u001b[38;5;241;43m=\u001b[39;49m\u001b[38;5;124;43m\"\u001b[39;49m\u001b[38;5;124;43madd\u001b[39;49m\u001b[38;5;124;43m\"\u001b[39;49m\u001b[43m,\u001b[49m\n\u001b[1;32m   2193\u001b[0m \u001b[43m        \u001b[49m\u001b[43mnpfunc\u001b[49m\u001b[38;5;241;43m=\u001b[39;49m\u001b[43mnp\u001b[49m\u001b[38;5;241;43m.\u001b[39;49m\u001b[43msum\u001b[49m\u001b[43m,\u001b[49m\n\u001b[1;32m   2194\u001b[0m \u001b[43m    \u001b[49m\u001b[43m)\u001b[49m\n\u001b[1;32m   2196\u001b[0m \u001b[38;5;28;01mreturn\u001b[39;00m \u001b[38;5;28mself\u001b[39m\u001b[38;5;241m.\u001b[39m_reindex_output(result, fill_value\u001b[38;5;241m=\u001b[39m\u001b[38;5;241m0\u001b[39m)\n",
      "File \u001b[0;32m~/opt/anaconda3/envs/uds/lib/python3.8/site-packages/pandas/core/groupby/groupby.py:1506\u001b[0m, in \u001b[0;36mGroupBy._agg_general\u001b[0;34m(self, numeric_only, min_count, alias, npfunc)\u001b[0m\n\u001b[1;32m   1494\u001b[0m \u001b[38;5;129m@final\u001b[39m\n\u001b[1;32m   1495\u001b[0m \u001b[38;5;28;01mdef\u001b[39;00m \u001b[38;5;21m_agg_general\u001b[39m(\n\u001b[1;32m   1496\u001b[0m     \u001b[38;5;28mself\u001b[39m,\n\u001b[0;32m   (...)\u001b[0m\n\u001b[1;32m   1501\u001b[0m     npfunc: Callable,\n\u001b[1;32m   1502\u001b[0m ):\n\u001b[1;32m   1504\u001b[0m     \u001b[38;5;28;01mwith\u001b[39;00m \u001b[38;5;28mself\u001b[39m\u001b[38;5;241m.\u001b[39m_group_selection_context():\n\u001b[1;32m   1505\u001b[0m         \u001b[38;5;66;03m# try a cython aggregation if we can\u001b[39;00m\n\u001b[0;32m-> 1506\u001b[0m         result \u001b[38;5;241m=\u001b[39m \u001b[38;5;28;43mself\u001b[39;49m\u001b[38;5;241;43m.\u001b[39;49m\u001b[43m_cython_agg_general\u001b[49m\u001b[43m(\u001b[49m\n\u001b[1;32m   1507\u001b[0m \u001b[43m            \u001b[49m\u001b[43mhow\u001b[49m\u001b[38;5;241;43m=\u001b[39;49m\u001b[43malias\u001b[49m\u001b[43m,\u001b[49m\n\u001b[1;32m   1508\u001b[0m \u001b[43m            \u001b[49m\u001b[43malt\u001b[49m\u001b[38;5;241;43m=\u001b[39;49m\u001b[43mnpfunc\u001b[49m\u001b[43m,\u001b[49m\n\u001b[1;32m   1509\u001b[0m \u001b[43m            \u001b[49m\u001b[43mnumeric_only\u001b[49m\u001b[38;5;241;43m=\u001b[39;49m\u001b[43mnumeric_only\u001b[49m\u001b[43m,\u001b[49m\n\u001b[1;32m   1510\u001b[0m \u001b[43m            \u001b[49m\u001b[43mmin_count\u001b[49m\u001b[38;5;241;43m=\u001b[39;49m\u001b[43mmin_count\u001b[49m\u001b[43m,\u001b[49m\n\u001b[1;32m   1511\u001b[0m \u001b[43m        \u001b[49m\u001b[43m)\u001b[49m\n\u001b[1;32m   1512\u001b[0m         \u001b[38;5;28;01mreturn\u001b[39;00m result\u001b[38;5;241m.\u001b[39m__finalize__(\u001b[38;5;28mself\u001b[39m\u001b[38;5;241m.\u001b[39mobj, method\u001b[38;5;241m=\u001b[39m\u001b[38;5;124m\"\u001b[39m\u001b[38;5;124mgroupby\u001b[39m\u001b[38;5;124m\"\u001b[39m)\n",
      "File \u001b[0;32m~/opt/anaconda3/envs/uds/lib/python3.8/site-packages/pandas/core/groupby/groupby.py:1592\u001b[0m, in \u001b[0;36mGroupBy._cython_agg_general\u001b[0;34m(self, how, alt, numeric_only, min_count)\u001b[0m\n\u001b[1;32m   1588\u001b[0m     \u001b[38;5;28;01mreturn\u001b[39;00m result\n\u001b[1;32m   1590\u001b[0m \u001b[38;5;66;03m# TypeError -> we may have an exception in trying to aggregate\u001b[39;00m\n\u001b[1;32m   1591\u001b[0m \u001b[38;5;66;03m#  continue and exclude the block\u001b[39;00m\n\u001b[0;32m-> 1592\u001b[0m new_mgr \u001b[38;5;241m=\u001b[39m \u001b[43mdata\u001b[49m\u001b[38;5;241;43m.\u001b[39;49m\u001b[43mgrouped_reduce\u001b[49m\u001b[43m(\u001b[49m\u001b[43marray_func\u001b[49m\u001b[43m,\u001b[49m\u001b[43m \u001b[49m\u001b[43mignore_failures\u001b[49m\u001b[38;5;241;43m=\u001b[39;49m\u001b[38;5;28;43;01mTrue\u001b[39;49;00m\u001b[43m)\u001b[49m\n\u001b[1;32m   1594\u001b[0m \u001b[38;5;28;01mif\u001b[39;00m \u001b[38;5;129;01mnot\u001b[39;00m is_ser \u001b[38;5;129;01mand\u001b[39;00m \u001b[38;5;28mlen\u001b[39m(new_mgr) \u001b[38;5;241m<\u001b[39m \u001b[38;5;28mlen\u001b[39m(data):\n\u001b[1;32m   1595\u001b[0m     warn_dropping_nuisance_columns_deprecated(\u001b[38;5;28mtype\u001b[39m(\u001b[38;5;28mself\u001b[39m), how)\n",
      "File \u001b[0;32m~/opt/anaconda3/envs/uds/lib/python3.8/site-packages/pandas/core/internals/base.py:199\u001b[0m, in \u001b[0;36mSingleDataManager.grouped_reduce\u001b[0;34m(self, func, ignore_failures)\u001b[0m\n\u001b[1;32m    193\u001b[0m \u001b[38;5;124;03m\"\"\"\u001b[39;00m\n\u001b[1;32m    194\u001b[0m \u001b[38;5;124;03mignore_failures : bool, default False\u001b[39;00m\n\u001b[1;32m    195\u001b[0m \u001b[38;5;124;03m    Not used; for compatibility with ArrayManager/BlockManager.\u001b[39;00m\n\u001b[1;32m    196\u001b[0m \u001b[38;5;124;03m\"\"\"\u001b[39;00m\n\u001b[1;32m    198\u001b[0m arr \u001b[38;5;241m=\u001b[39m \u001b[38;5;28mself\u001b[39m\u001b[38;5;241m.\u001b[39marray\n\u001b[0;32m--> 199\u001b[0m res \u001b[38;5;241m=\u001b[39m \u001b[43mfunc\u001b[49m\u001b[43m(\u001b[49m\u001b[43marr\u001b[49m\u001b[43m)\u001b[49m\n\u001b[1;32m    200\u001b[0m index \u001b[38;5;241m=\u001b[39m default_index(\u001b[38;5;28mlen\u001b[39m(res))\n\u001b[1;32m    202\u001b[0m mgr \u001b[38;5;241m=\u001b[39m \u001b[38;5;28mtype\u001b[39m(\u001b[38;5;28mself\u001b[39m)\u001b[38;5;241m.\u001b[39mfrom_array(res, index)\n",
      "File \u001b[0;32m~/opt/anaconda3/envs/uds/lib/python3.8/site-packages/pandas/core/groupby/groupby.py:1578\u001b[0m, in \u001b[0;36mGroupBy._cython_agg_general.<locals>.array_func\u001b[0;34m(values)\u001b[0m\n\u001b[1;32m   1576\u001b[0m \u001b[38;5;28;01mdef\u001b[39;00m \u001b[38;5;21marray_func\u001b[39m(values: ArrayLike) \u001b[38;5;241m-\u001b[39m\u001b[38;5;241m>\u001b[39m ArrayLike:\n\u001b[1;32m   1577\u001b[0m     \u001b[38;5;28;01mtry\u001b[39;00m:\n\u001b[0;32m-> 1578\u001b[0m         result \u001b[38;5;241m=\u001b[39m \u001b[38;5;28;43mself\u001b[39;49m\u001b[38;5;241;43m.\u001b[39;49m\u001b[43mgrouper\u001b[49m\u001b[38;5;241;43m.\u001b[39;49m\u001b[43m_cython_operation\u001b[49m\u001b[43m(\u001b[49m\n\u001b[1;32m   1579\u001b[0m \u001b[43m            \u001b[49m\u001b[38;5;124;43m\"\u001b[39;49m\u001b[38;5;124;43maggregate\u001b[39;49m\u001b[38;5;124;43m\"\u001b[39;49m\u001b[43m,\u001b[49m\u001b[43m \u001b[49m\u001b[43mvalues\u001b[49m\u001b[43m,\u001b[49m\u001b[43m \u001b[49m\u001b[43mhow\u001b[49m\u001b[43m,\u001b[49m\u001b[43m \u001b[49m\u001b[43maxis\u001b[49m\u001b[38;5;241;43m=\u001b[39;49m\u001b[43mdata\u001b[49m\u001b[38;5;241;43m.\u001b[39;49m\u001b[43mndim\u001b[49m\u001b[43m \u001b[49m\u001b[38;5;241;43m-\u001b[39;49m\u001b[43m \u001b[49m\u001b[38;5;241;43m1\u001b[39;49m\u001b[43m,\u001b[49m\u001b[43m \u001b[49m\u001b[43mmin_count\u001b[49m\u001b[38;5;241;43m=\u001b[39;49m\u001b[43mmin_count\u001b[49m\n\u001b[1;32m   1580\u001b[0m \u001b[43m        \u001b[49m\u001b[43m)\u001b[49m\n\u001b[1;32m   1581\u001b[0m     \u001b[38;5;28;01mexcept\u001b[39;00m \u001b[38;5;167;01mNotImplementedError\u001b[39;00m:\n\u001b[1;32m   1582\u001b[0m         \u001b[38;5;66;03m# generally if we have numeric_only=False\u001b[39;00m\n\u001b[1;32m   1583\u001b[0m         \u001b[38;5;66;03m# and non-applicable functions\u001b[39;00m\n\u001b[1;32m   1584\u001b[0m         \u001b[38;5;66;03m# try to python agg\u001b[39;00m\n\u001b[1;32m   1585\u001b[0m         \u001b[38;5;66;03m# TODO: shouldn't min_count matter?\u001b[39;00m\n\u001b[1;32m   1586\u001b[0m         result \u001b[38;5;241m=\u001b[39m \u001b[38;5;28mself\u001b[39m\u001b[38;5;241m.\u001b[39m_agg_py_fallback(values, ndim\u001b[38;5;241m=\u001b[39mdata\u001b[38;5;241m.\u001b[39mndim, alt\u001b[38;5;241m=\u001b[39malt)\n",
      "File \u001b[0;32m~/opt/anaconda3/envs/uds/lib/python3.8/site-packages/pandas/core/groupby/ops.py:939\u001b[0m, in \u001b[0;36mBaseGrouper._cython_operation\u001b[0;34m(self, kind, values, how, axis, min_count, **kwargs)\u001b[0m\n\u001b[1;32m    937\u001b[0m ids, _, _ \u001b[38;5;241m=\u001b[39m \u001b[38;5;28mself\u001b[39m\u001b[38;5;241m.\u001b[39mgroup_info\n\u001b[1;32m    938\u001b[0m ngroups \u001b[38;5;241m=\u001b[39m \u001b[38;5;28mself\u001b[39m\u001b[38;5;241m.\u001b[39mngroups\n\u001b[0;32m--> 939\u001b[0m \u001b[38;5;28;01mreturn\u001b[39;00m \u001b[43mcy_op\u001b[49m\u001b[38;5;241;43m.\u001b[39;49m\u001b[43mcython_operation\u001b[49m\u001b[43m(\u001b[49m\n\u001b[1;32m    940\u001b[0m \u001b[43m    \u001b[49m\u001b[43mvalues\u001b[49m\u001b[38;5;241;43m=\u001b[39;49m\u001b[43mvalues\u001b[49m\u001b[43m,\u001b[49m\n\u001b[1;32m    941\u001b[0m \u001b[43m    \u001b[49m\u001b[43maxis\u001b[49m\u001b[38;5;241;43m=\u001b[39;49m\u001b[43maxis\u001b[49m\u001b[43m,\u001b[49m\n\u001b[1;32m    942\u001b[0m \u001b[43m    \u001b[49m\u001b[43mmin_count\u001b[49m\u001b[38;5;241;43m=\u001b[39;49m\u001b[43mmin_count\u001b[49m\u001b[43m,\u001b[49m\n\u001b[1;32m    943\u001b[0m \u001b[43m    \u001b[49m\u001b[43mcomp_ids\u001b[49m\u001b[38;5;241;43m=\u001b[39;49m\u001b[43mids\u001b[49m\u001b[43m,\u001b[49m\n\u001b[1;32m    944\u001b[0m \u001b[43m    \u001b[49m\u001b[43mngroups\u001b[49m\u001b[38;5;241;43m=\u001b[39;49m\u001b[43mngroups\u001b[49m\u001b[43m,\u001b[49m\n\u001b[1;32m    945\u001b[0m \u001b[43m    \u001b[49m\u001b[38;5;241;43m*\u001b[39;49m\u001b[38;5;241;43m*\u001b[39;49m\u001b[43mkwargs\u001b[49m\u001b[43m,\u001b[49m\n\u001b[1;32m    946\u001b[0m \u001b[43m\u001b[49m\u001b[43m)\u001b[49m\n",
      "File \u001b[0;32m~/opt/anaconda3/envs/uds/lib/python3.8/site-packages/pandas/core/groupby/ops.py:626\u001b[0m, in \u001b[0;36mWrappedCythonOp.cython_operation\u001b[0;34m(self, values, axis, min_count, comp_ids, ngroups, **kwargs)\u001b[0m\n\u001b[1;32m    616\u001b[0m \u001b[38;5;28;01mif\u001b[39;00m \u001b[38;5;129;01mnot\u001b[39;00m \u001b[38;5;28misinstance\u001b[39m(values, np\u001b[38;5;241m.\u001b[39mndarray):\n\u001b[1;32m    617\u001b[0m     \u001b[38;5;66;03m# i.e. ExtensionArray\u001b[39;00m\n\u001b[1;32m    618\u001b[0m     \u001b[38;5;28;01mreturn\u001b[39;00m \u001b[38;5;28mself\u001b[39m\u001b[38;5;241m.\u001b[39m_ea_wrap_cython_operation(\n\u001b[1;32m    619\u001b[0m         values,\n\u001b[1;32m    620\u001b[0m         min_count\u001b[38;5;241m=\u001b[39mmin_count,\n\u001b[0;32m   (...)\u001b[0m\n\u001b[1;32m    623\u001b[0m         \u001b[38;5;241m*\u001b[39m\u001b[38;5;241m*\u001b[39mkwargs,\n\u001b[1;32m    624\u001b[0m     )\n\u001b[0;32m--> 626\u001b[0m \u001b[38;5;28;01mreturn\u001b[39;00m \u001b[38;5;28;43mself\u001b[39;49m\u001b[38;5;241;43m.\u001b[39;49m\u001b[43m_cython_op_ndim_compat\u001b[49m\u001b[43m(\u001b[49m\n\u001b[1;32m    627\u001b[0m \u001b[43m    \u001b[49m\u001b[43mvalues\u001b[49m\u001b[43m,\u001b[49m\n\u001b[1;32m    628\u001b[0m \u001b[43m    \u001b[49m\u001b[43mmin_count\u001b[49m\u001b[38;5;241;43m=\u001b[39;49m\u001b[43mmin_count\u001b[49m\u001b[43m,\u001b[49m\n\u001b[1;32m    629\u001b[0m \u001b[43m    \u001b[49m\u001b[43mngroups\u001b[49m\u001b[38;5;241;43m=\u001b[39;49m\u001b[43mngroups\u001b[49m\u001b[43m,\u001b[49m\n\u001b[1;32m    630\u001b[0m \u001b[43m    \u001b[49m\u001b[43mcomp_ids\u001b[49m\u001b[38;5;241;43m=\u001b[39;49m\u001b[43mcomp_ids\u001b[49m\u001b[43m,\u001b[49m\n\u001b[1;32m    631\u001b[0m \u001b[43m    \u001b[49m\u001b[43mmask\u001b[49m\u001b[38;5;241;43m=\u001b[39;49m\u001b[38;5;28;43;01mNone\u001b[39;49;00m\u001b[43m,\u001b[49m\n\u001b[1;32m    632\u001b[0m \u001b[43m    \u001b[49m\u001b[38;5;241;43m*\u001b[39;49m\u001b[38;5;241;43m*\u001b[39;49m\u001b[43mkwargs\u001b[49m\u001b[43m,\u001b[49m\n\u001b[1;32m    633\u001b[0m \u001b[43m\u001b[49m\u001b[43m)\u001b[49m\n",
      "File \u001b[0;32m~/opt/anaconda3/envs/uds/lib/python3.8/site-packages/pandas/core/groupby/ops.py:451\u001b[0m, in \u001b[0;36mWrappedCythonOp._cython_op_ndim_compat\u001b[0;34m(self, values, min_count, ngroups, comp_ids, mask, result_mask, **kwargs)\u001b[0m\n\u001b[1;32m    449\u001b[0m \u001b[38;5;28;01mif\u001b[39;00m result_mask \u001b[38;5;129;01mis\u001b[39;00m \u001b[38;5;129;01mnot\u001b[39;00m \u001b[38;5;28;01mNone\u001b[39;00m:\n\u001b[1;32m    450\u001b[0m     result_mask \u001b[38;5;241m=\u001b[39m result_mask[\u001b[38;5;28;01mNone\u001b[39;00m, :]\n\u001b[0;32m--> 451\u001b[0m res \u001b[38;5;241m=\u001b[39m \u001b[38;5;28;43mself\u001b[39;49m\u001b[38;5;241;43m.\u001b[39;49m\u001b[43m_call_cython_op\u001b[49m\u001b[43m(\u001b[49m\n\u001b[1;32m    452\u001b[0m \u001b[43m    \u001b[49m\u001b[43mvalues2d\u001b[49m\u001b[43m,\u001b[49m\n\u001b[1;32m    453\u001b[0m \u001b[43m    \u001b[49m\u001b[43mmin_count\u001b[49m\u001b[38;5;241;43m=\u001b[39;49m\u001b[43mmin_count\u001b[49m\u001b[43m,\u001b[49m\n\u001b[1;32m    454\u001b[0m \u001b[43m    \u001b[49m\u001b[43mngroups\u001b[49m\u001b[38;5;241;43m=\u001b[39;49m\u001b[43mngroups\u001b[49m\u001b[43m,\u001b[49m\n\u001b[1;32m    455\u001b[0m \u001b[43m    \u001b[49m\u001b[43mcomp_ids\u001b[49m\u001b[38;5;241;43m=\u001b[39;49m\u001b[43mcomp_ids\u001b[49m\u001b[43m,\u001b[49m\n\u001b[1;32m    456\u001b[0m \u001b[43m    \u001b[49m\u001b[43mmask\u001b[49m\u001b[38;5;241;43m=\u001b[39;49m\u001b[43mmask\u001b[49m\u001b[43m,\u001b[49m\n\u001b[1;32m    457\u001b[0m \u001b[43m    \u001b[49m\u001b[43mresult_mask\u001b[49m\u001b[38;5;241;43m=\u001b[39;49m\u001b[43mresult_mask\u001b[49m\u001b[43m,\u001b[49m\n\u001b[1;32m    458\u001b[0m \u001b[43m    \u001b[49m\u001b[38;5;241;43m*\u001b[39;49m\u001b[38;5;241;43m*\u001b[39;49m\u001b[43mkwargs\u001b[49m\u001b[43m,\u001b[49m\n\u001b[1;32m    459\u001b[0m \u001b[43m\u001b[49m\u001b[43m)\u001b[49m\n\u001b[1;32m    460\u001b[0m \u001b[38;5;28;01mif\u001b[39;00m res\u001b[38;5;241m.\u001b[39mshape[\u001b[38;5;241m0\u001b[39m] \u001b[38;5;241m==\u001b[39m \u001b[38;5;241m1\u001b[39m:\n\u001b[1;32m    461\u001b[0m     \u001b[38;5;28;01mreturn\u001b[39;00m res[\u001b[38;5;241m0\u001b[39m]\n",
      "File \u001b[0;32m~/opt/anaconda3/envs/uds/lib/python3.8/site-packages/pandas/core/groupby/ops.py:535\u001b[0m, in \u001b[0;36mWrappedCythonOp._call_cython_op\u001b[0;34m(self, values, min_count, ngroups, comp_ids, mask, result_mask, **kwargs)\u001b[0m\n\u001b[1;32m    523\u001b[0m     func(\n\u001b[1;32m    524\u001b[0m         result,\n\u001b[1;32m    525\u001b[0m         counts,\n\u001b[0;32m   (...)\u001b[0m\n\u001b[1;32m    531\u001b[0m         is_datetimelike\u001b[38;5;241m=\u001b[39mis_datetimelike,\n\u001b[1;32m    532\u001b[0m     )\n\u001b[1;32m    533\u001b[0m \u001b[38;5;28;01melif\u001b[39;00m \u001b[38;5;28mself\u001b[39m\u001b[38;5;241m.\u001b[39mhow \u001b[38;5;129;01min\u001b[39;00m [\u001b[38;5;124m\"\u001b[39m\u001b[38;5;124madd\u001b[39m\u001b[38;5;124m\"\u001b[39m]:\n\u001b[1;32m    534\u001b[0m     \u001b[38;5;66;03m# We support datetimelike\u001b[39;00m\n\u001b[0;32m--> 535\u001b[0m     \u001b[43mfunc\u001b[49m\u001b[43m(\u001b[49m\n\u001b[1;32m    536\u001b[0m \u001b[43m        \u001b[49m\u001b[43mresult\u001b[49m\u001b[43m,\u001b[49m\n\u001b[1;32m    537\u001b[0m \u001b[43m        \u001b[49m\u001b[43mcounts\u001b[49m\u001b[43m,\u001b[49m\n\u001b[1;32m    538\u001b[0m \u001b[43m        \u001b[49m\u001b[43mvalues\u001b[49m\u001b[43m,\u001b[49m\n\u001b[1;32m    539\u001b[0m \u001b[43m        \u001b[49m\u001b[43mcomp_ids\u001b[49m\u001b[43m,\u001b[49m\n\u001b[1;32m    540\u001b[0m \u001b[43m        \u001b[49m\u001b[43mmin_count\u001b[49m\u001b[43m,\u001b[49m\n\u001b[1;32m    541\u001b[0m \u001b[43m        \u001b[49m\u001b[43mdatetimelike\u001b[49m\u001b[38;5;241;43m=\u001b[39;49m\u001b[43mis_datetimelike\u001b[49m\u001b[43m,\u001b[49m\n\u001b[1;32m    542\u001b[0m \u001b[43m    \u001b[49m\u001b[43m)\u001b[49m\n\u001b[1;32m    543\u001b[0m \u001b[38;5;28;01melse\u001b[39;00m:\n\u001b[1;32m    544\u001b[0m     func(result, counts, values, comp_ids, min_count)\n",
      "\u001b[0;31mKeyboardInterrupt\u001b[0m: "
     ]
    }
   ],
   "source": [
    "# bring in all reviews in philadelphia\n",
    "reviews = pd.read_pickle('data/reviewsPhil.pandas')\n",
    "\n",
    "# standardize the reviews text\n",
    "reviews['text'] = reviews['text'].fillna('').astype(str)\n",
    "\n",
    "# group by business_id and sum\n",
    "bizDf = reviews.groupby('business_id')['text'].sum().to_frame()"
   ]
  },
  {
   "cell_type": "code",
   "execution_count": null,
   "id": "192c45bd-8860-484d-985a-619236c624e4",
   "metadata": {},
   "outputs": [],
   "source": [
    "# Create function to clean and count\n",
    "\n",
    "def FindNewGays(in_df):\n",
    "    \n",
    "    # clean all the text and tokenize\n",
    "    df = in_df.text.apply(lambda item: item.lower()).apply(lambda item: word_tokenize(re.sub(r\"[^A-z\\s]\", \"\", item))).to_frame()\n",
    "    \n",
    "    # remove stopwords\n",
    "    df['text'] = df['text'].apply(lambda review: [word for word in review if (word not in mystop)])\n",
    "\n",
    "    # make column with gay words extracted\n",
    "    df['gay_text'] = df['text'].apply(lambda review: [word for word in review if (word in gay_words)])\n",
    "\n",
    "    # create new dataframe only with businesses that have at least one gay word in the reviews\n",
    "    newgayDf = df[df['gay_text'].apply(lambda x: len(x) >0)].copy()\n",
    "\n",
    "    # count number of words for each business and sort\n",
    "    newgayDf['gay_text_len'] = newgayDf.gay_text.apply(lambda x: len(x))\n",
    "    newgayDf.sort_values('gay_text_len', ascending=False, inplace=True)\n",
    "\n",
    "    # create frequency distribution of gay words for each business\n",
    "    newgayDf['gay_counts'] = newgayDf['gay_text'].apply(lambda words: Counter(words))\n",
    "\n",
    "    # count unique gay words for each business\n",
    "    newgayDf['gay_unique_count'] = newgayDf['gay_counts'].apply(lambda freq: len(freq.keys()))\n",
    "\n",
    "    return newgayDf\n"
   ]
  },
  {
   "cell_type": "code",
   "execution_count": null,
   "id": "c6af4cbd-3e40-4082-a6db-ae0ef29ef496",
   "metadata": {},
   "outputs": [],
   "source": [
    "# Run function and create newgaybiz.pandas\n",
    "gay_words = ['gay','drag','queen','queer','queens','lgbt','bear','lesbian','gays','lgbtq','homophobic','bears','trans','lesbians','transgender','dyke','twinks','queers','homosexual','bisexual','homosexuals']\n",
    "mystop = stopwords.words('english')\n",
    "\n",
    "newgayDf = FindNewGays(bizDf)\n",
    "\n",
    "newgayDf.to_pickle('data/newgaybiz.pandas')"
   ]
  },
  {
   "cell_type": "markdown",
   "id": "cfa9f4a6-c627-4d3e-9971-594ee57804f4",
   "metadata": {
    "tags": []
   },
   "source": [
    "# Clean up newgayDf"
   ]
  },
  {
   "cell_type": "code",
   "execution_count": 49,
   "id": "5a500d89-389f-4d9b-be45-6ed960186c75",
   "metadata": {},
   "outputs": [],
   "source": [
    "# read in pickle\n",
    "newgayDf = pd.read_pickle('data/newgaybiz.pandas')"
   ]
  },
  {
   "cell_type": "code",
   "execution_count": 50,
   "id": "e3b5dfcc-b415-4dd7-976d-b1bc763ee0d9",
   "metadata": {},
   "outputs": [],
   "source": [
    "# drop text column for size\n",
    "newgayDf = newgayDf.drop(columns = ['text'])"
   ]
  },
  {
   "cell_type": "code",
   "execution_count": 51,
   "id": "305d4522-f053-4f15-b4c3-705393ef3c73",
   "metadata": {},
   "outputs": [],
   "source": [
    "# make index a column\n",
    "newgayDf.reset_index(inplace=True)\n",
    "newgayDf = newgayDf.rename(columns = {'index':'business_id'})"
   ]
  },
  {
   "cell_type": "markdown",
   "id": "3d58c978-2693-4f9b-83d1-5fe5a64c904d",
   "metadata": {},
   "source": [
    "Now I want to remove businesses that don't have a significant number of hits. I'll make a histogram to choose the cut off. From the plot and the frequency table, the biggest group is gay_text_len = 1. I'll drop that. Furthermore, the biggest drop-off is at gay_text_len = 5. I will inspect those items and considering dropping them in the future if they are false hits. "
   ]
  },
  {
   "cell_type": "code",
   "execution_count": 54,
   "id": "91185392-95db-414b-afcf-96a517239b0e",
   "metadata": {},
   "outputs": [
    {
     "data": {
      "text/plain": [
       "array([[<AxesSubplot:title={'center':'gay_text_len'}>]], dtype=object)"
      ]
     },
     "execution_count": 54,
     "metadata": {},
     "output_type": "execute_result"
    },
    {
     "data": {
      "image/png": "[encoded data removed]",
      "text/plain": [
       "<Figure size 720x720 with 1 Axes>"
      ]
     },
     "metadata": {
      "needs_background": "light"
     },
     "output_type": "display_data"
    }
   ],
   "source": [
    "# make histogram of gay_text_len\n",
    "newgayDf.hist(column = 'gay_text_len', figsize = (10,10), bins = 50)"
   ]
  },
  {
   "cell_type": "code",
   "execution_count": 52,
   "id": "880c7cce-42f8-42bd-aee9-1db8304d9f2c",
   "metadata": {},
   "outputs": [
    {
     "data": {
      "text/plain": [
       "gay_text_len\n",
       "1     3188\n",
       "2      836\n",
       "3      317\n",
       "4      187\n",
       "5      109\n",
       "6       47\n",
       "7       29\n",
       "8       24\n",
       "9       25\n",
       "10      22\n",
       "11      11\n",
       "12      13\n",
       "13      17\n",
       "14      12\n",
       "15       8\n",
       "dtype: int64"
      ]
     },
     "execution_count": 52,
     "metadata": {},
     "output_type": "execute_result"
    }
   ],
   "source": [
    "newgayDf.groupby('gay_text_len').size().head(15)"
   ]
  },
  {
   "cell_type": "code",
   "execution_count": 53,
   "id": "31ab8c31-6c48-4d4a-9b88-e34a009e6c53",
   "metadata": {},
   "outputs": [
    {
     "data": {
      "text/plain": [
       "1719"
      ]
     },
     "execution_count": 53,
     "metadata": {},
     "output_type": "execute_result"
    }
   ],
   "source": [
    "newgayDf = newgayDf[newgayDf.gay_text_len > 1]\n",
    "len(newgayDf)"
   ]
  },
  {
   "cell_type": "code",
   "execution_count": 55,
   "id": "a8f547b4-8345-4391-8781-88cdff49271f",
   "metadata": {},
   "outputs": [],
   "source": [
    "# flag gay businesses we already identified\n",
    "known_gay = pd.read_csv('data/philly_gay_businesses.csv')\n",
    "newgayDf['known'] = newgayDf.business_id.isin(known_gay.business_id)"
   ]
  },
  {
   "cell_type": "code",
   "execution_count": 56,
   "id": "56a1af7b-92d1-4a98-9356-9b209ca4e4c5",
   "metadata": {},
   "outputs": [
    {
     "name": "stdout",
     "output_type": "stream",
     "text": [
      "known\n",
      "False    1694\n",
      "True       25\n",
      "dtype: int64\n",
      "45\n"
     ]
    }
   ],
   "source": [
    "print(newgayDf.groupby('known').size())\n",
    "print(len(known_gay))"
   ]
  },
  {
   "cell_type": "markdown",
   "id": "ca7cefe0-824f-479d-aef5-09581981d64f",
   "metadata": {},
   "source": [
    "Interesting... only 28 our our 45 known gay businesses were picked up using our NLP! While we will pick up new businesses with this method, certainly not all queer identified businesses will be included.\n",
    "\n",
    "I'll grab the businesses that are not flagged so I can add them back to the df.\n"
   ]
  },
  {
   "cell_type": "code",
   "execution_count": 46,
   "id": "9324f8b5-323b-4eeb-8dc3-649baecfc292",
   "metadata": {},
   "outputs": [],
   "source": [
    "known_flagged = newgayDf[newgayDf.known == True].business_id.to_list()\n",
    "known_unflagged = [biz for biz in known_gay.business_id if biz not in known_flagged]\n",
    "\n",
    "known_unflagged = pd.DataFrame({'business_id': known_unflagged, 'gay_text': \" \", 'gay_text_len' : \" \",\n",
    "                              'gay_counts': \" \", 'gay_unique_count': \" \", 'known': \" \"})\n",
    "\n",
    "newgayDf = pd.concat([newgayDf, known_unflagged])"
   ]
  },
  {
   "cell_type": "code",
   "execution_count": 73,
   "id": "2318e6da-4c63-41b0-909a-af047eaab945",
   "metadata": {},
   "outputs": [],
   "source": [
    "newgayDf.to_pickle('data/newgaybiz_clean.pandas')"
   ]
  },
  {
   "cell_type": "markdown",
   "id": "a490e704-342d-4700-b957-0d5221b13437",
   "metadata": {
    "jp-MarkdownHeadingCollapsed": true,
    "tags": []
   },
   "source": [
    "## Test on a Slice\n",
    "Experiment with code to run on the big massive review df"
   ]
  },
  {
   "cell_type": "code",
   "execution_count": null,
   "id": "2242147a-e083-49c4-832d-70c4259d58e4",
   "metadata": {},
   "outputs": [],
   "source": [
    "gay_words = ['gay','drag','queen','queer','queens','lgbt','bear','lesbian','gays','lgbtq','homophobic','bears','trans','lesbians','transgender','dyke','twinks','queers','homosexual','bisexual','homosexuals']"
   ]
  },
  {
   "cell_type": "code",
   "execution_count": null,
   "id": "57eea25e-ed3a-4388-baf4-d320ca94fb1f",
   "metadata": {},
   "outputs": [],
   "source": [
    "# make a slice\n",
    "sliceDf = bizDf.head(1000).copy()"
   ]
  },
  {
   "cell_type": "code",
   "execution_count": null,
   "id": "9bee528d-0146-4a3f-a634-fb627725d2da",
   "metadata": {},
   "outputs": [],
   "source": [
    "# clean up the text and tokenize\n",
    "sliceDf = sliceDf.text.apply(lambda item: item.lower()).apply(lambda item: word_tokenize(re.sub(r\"[^A-z\\s]\", \"\", item))).to_frame()"
   ]
  },
  {
   "cell_type": "code",
   "execution_count": null,
   "id": "cdfc2cc1-2324-44f0-bf17-fb11de5b3af9",
   "metadata": {},
   "outputs": [],
   "source": [
    "# remove stopwords\n",
    "mystop = stopwords.words('english')\n",
    "sliceDf['text'] = sliceDf['text'].apply(lambda review: [word for word in review if (word not in mystop)])"
   ]
  },
  {
   "cell_type": "code",
   "execution_count": null,
   "id": "6856f0f9-6175-4e0c-b032-2b28b7baadc6",
   "metadata": {},
   "outputs": [],
   "source": [
    "# extract gay words into new column\n",
    "sliceDf['gay_text'] = sliceDf['text'].apply(lambda review: [word for word in review if (word in gay_words)])\n",
    "sliceDf"
   ]
  },
  {
   "cell_type": "code",
   "execution_count": null,
   "id": "c32ce7e2-9bcd-4794-b836-cce3d166cdf7",
   "metadata": {},
   "outputs": [],
   "source": [
    "# subset for businesses with gay words\n",
    "newgayDf = sliceDf[sliceDf['gay_text'].apply(lambda x: len(x) >0)].copy()"
   ]
  },
  {
   "cell_type": "code",
   "execution_count": null,
   "id": "6b870a58-e00a-4588-ace5-3a5749d830b5",
   "metadata": {},
   "outputs": [],
   "source": [
    "newgayDf"
   ]
  },
  {
   "cell_type": "code",
   "execution_count": null,
   "id": "de1ec35d-56f9-44bf-9366-36e529ffd21b",
   "metadata": {},
   "outputs": [],
   "source": [
    "# Just count the number of words that were identified. This can be used later to screen out some businesses\n",
    "newgayDf['gay_text_len'] = newgayDf.gay_text.apply(lambda x: len(x))\n",
    "newgayDf.sort_values('gay_text_len', ascending=False, inplace=True)\n",
    "newgayDf"
   ]
  },
  {
   "cell_type": "code",
   "execution_count": null,
   "id": "74b51ce9-9ab2-43f2-9e83-97919b5aa6ba",
   "metadata": {},
   "outputs": [],
   "source": [
    "# create frequency distribution of gay words for each business \n",
    "newgayDf['gay_counts'] = newgayDf['gay_text'].apply(lambda words: Counter(words))\n",
    "newgayDf"
   ]
  },
  {
   "cell_type": "code",
   "execution_count": null,
   "id": "a5f2af29-c132-4135-8b20-a52c1eea9d9d",
   "metadata": {},
   "outputs": [],
   "source": [
    "# count unique gay words for each business\n",
    "newgayDf['gay_unique_count'] = newgayDf['gay_counts'].apply(lambda freq: len(freq.keys()))\n",
    "newgayDf"
   ]
  },
  {
   "cell_type": "markdown",
   "id": "e6bd36d4-608b-4fa2-b6f2-c515aeca550a",
   "metadata": {},
   "source": [
    "## Future Tasks\n",
    "\n",
    "- Drop words that are getting false hits (like bear and drag)\n",
    "- Drop businesses with a few hits\n",
    "- Do manual check of what those businesses are (will need to join newgayDf back to bizPhil)\n",
    "- Get frequency of summation of all gay words\n",
    "- Do ngrams on text and gay text? \n",
    "- flag our previously identified businesses\n"
   ]
  },
  {
   "cell_type": "code",
   "execution_count": null,
   "id": "29b8241d-d4fe-44c9-b4cd-4143c385f414",
   "metadata": {},
   "outputs": [],
   "source": []
  },
  {
   "cell_type": "code",
   "execution_count": null,
   "id": "ccac364e-0203-433c-ab0d-0b1fbacc98af",
   "metadata": {},
   "outputs": [],
   "source": []
  }
 ],
 "metadata": {
  "kernelspec": {
   "display_name": "Python 3 (ipykernel)",
   "language": "python",
   "name": "python3"
  },
  "language_info": {
   "codemirror_mode": {
    "name": "ipython",
    "version": 3
   },
   "file_extension": ".py",
   "mimetype": "text/x-python",
   "name": "python",
   "nbconvert_exporter": "python",
   "pygments_lexer": "ipython3",
   "version": "3.8.13"
  }
 },
 "nbformat": 4,
 "nbformat_minor": 5
}
