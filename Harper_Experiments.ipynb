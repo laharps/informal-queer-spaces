{
 "cells": [
  {
   "cell_type": "code",
   "execution_count": 1,
   "id": "b507540c",
   "metadata": {},
   "outputs": [],
   "source": [
    "import pandas as pd\n",
    "import geopandas as gpd\n",
    "import requests\n",
    "import json\n",
    "from bs4 import BeautifulSoup\n",
    "import os\n",
    "import matplotlib.pyplot as plt\n",
    "import contextily as ctx"
   ]
  },
  {
   "cell_type": "markdown",
   "id": "157f4b4e-177a-4799-bc18-13b590d66979",
   "metadata": {
    "jp-MarkdownHeadingCollapsed": true,
    "tags": []
   },
   "source": [
    "# Initial Fucking Around"
   ]
  },
  {
   "cell_type": "code",
   "execution_count": null,
   "id": "c3ee84a5",
   "metadata": {
    "jupyter": {
     "source_hidden": true
    },
    "tags": []
   },
   "outputs": [],
   "source": [
    "# Yelp Search Results\n",
    "r = requests.get('https://www.yelp.com/search?find_desc=bars&find_loc=Los+Angeles%2C+CA+90049&ns=1')\n",
    "r.ok"
   ]
  },
  {
   "cell_type": "code",
   "execution_count": null,
   "id": "1c4b807c",
   "metadata": {},
   "outputs": [],
   "source": [
    "#r.text"
   ]
  },
  {
   "cell_type": "code",
   "execution_count": null,
   "id": "ab070346",
   "metadata": {},
   "outputs": [],
   "source": [
    "soup = BeautifulSoup(r.text)\n",
    "print(soup.prettify())"
   ]
  },
  {
   "cell_type": "code",
   "execution_count": null,
   "id": "f7e5161b",
   "metadata": {},
   "outputs": [],
   "source": [
    "# YELP URL of One page (could extract from businessurl)\n",
    "r = requests.get('https://www.yelp.com/biz/the-wellesbourne-los-angeles?osq=bars')"
   ]
  },
  {
   "cell_type": "code",
   "execution_count": null,
   "id": "a6aab8ba",
   "metadata": {},
   "outputs": [],
   "source": [
    "soup = BeautifulSoup(r.text)\n",
    "print(soup.prettify())"
   ]
  },
  {
   "cell_type": "code",
   "execution_count": null,
   "id": "5fe6fc2a",
   "metadata": {},
   "outputs": [],
   "source": [
    "soup.find_all(\"application/ld+json\")"
   ]
  },
  {
   "cell_type": "code",
   "execution_count": null,
   "id": "468bb5be",
   "metadata": {},
   "outputs": [],
   "source": [
    "# Foursquare API\n",
    "# API has tips for each venue, can pull up to \n",
    "import requests\n",
    "\n",
    "fsq_id = '5a187743ccad6b307315e6fe'\n",
    "url = \"https://api.foursquare.com/v3/places/{}/tips\".format(fsq_id)\n",
    "\n",
    "headers = {\"Accept\": \"application/json\"}\n",
    "\n",
    "response = requests.get(url, headers=headers)\n",
    "\n",
    "print(response.text)"
   ]
  },
  {
   "cell_type": "markdown",
   "id": "bb1d71fb-0bea-4ed6-8373-6a1220e2383a",
   "metadata": {},
   "source": [
    "# Cleaned Yelp Dataset"
   ]
  },
  {
   "cell_type": "markdown",
   "id": "fea22bf7-6970-4706-b07d-ecb8b3c02a41",
   "metadata": {
    "tags": []
   },
   "source": [
    "## Filter Business JSON for Philadelphia Area"
   ]
  },
  {
   "cell_type": "code",
   "execution_count": 2,
   "id": "8aa68239-d734-4449-b6ef-a8631748dd2b",
   "metadata": {},
   "outputs": [],
   "source": [
    "# load data\n",
    "biz = pd.read_json('/Users/harper/Documents/GitHub/yelp_dataset/yelp_academic_dataset_business.json',lines=True)\n",
    "\n",
    "# create geodataframe\n",
    "bizGdf = gpd.GeoDataFrame(biz, geometry=gpd.points_from_xy(biz.longitude, biz.latitude), crs='EPSG:4326')\n",
    "\n",
    "# filter for Philadelphia metro area\n",
    "bizPhil = bizGdf[(bizGdf.state == 'PA') | (bizGdf.state == 'NJ') | (bizGdf.state == 'DE')]"
   ]
  },
  {
   "cell_type": "code",
   "execution_count": null,
   "id": "b3657b7a-cd57-4658-b162-ad4bfa9d44e5",
   "metadata": {},
   "outputs": [],
   "source": [
    "##  FIGURE OUT HOW TO GET ALL ATTRIBUTES TO CHECK FOR GAY\n",
    "print(bizPhil['attributes'][biz].keys())"
   ]
  },
  {
   "cell_type": "code",
   "execution_count": null,
   "id": "4a45d21f-7b57-4913-bb41-9d66be0f62f0",
   "metadata": {},
   "outputs": [],
   "source": [
    "# plot\n",
    "fig, ax = plt.subplots(figsize=(20,20))\n",
    "bizPhil.to_crs('EPSG: 3857').plot(ax=ax)\n",
    "ctx.add_basemap(ax)\n",
    "\n",
    "plt.savefig('images/yelp_philly.png', dpi=300)"
   ]
  },
  {
   "cell_type": "code",
   "execution_count": null,
   "id": "49504353-7ee4-4bba-b2a9-bbd161d7fe46",
   "metadata": {},
   "outputs": [],
   "source": [
    "# plot\n",
    "fig, ax = plt.subplots(figsize=(20,20))\n",
    "bizGdf.to_crs('EPSG: 3857').plot(ax=ax)\n",
    "ctx.add_basemap(ax)\n",
    "\n",
    "plt.savefig('images/yelp_country.png', dpi=300)"
   ]
  },
  {
   "cell_type": "markdown",
   "id": "cf8e7e45-1f30-42b8-9d59-6550d8df8108",
   "metadata": {},
   "source": [
    "## Bring in reviews for Philadelphia area"
   ]
  },
  {
   "cell_type": "markdown",
   "id": "69b408c1-d080-47dc-886e-e0d690696b0e",
   "metadata": {},
   "source": [
    "<div class=\"alert alert-block alert-danger\">\n",
    "Reset kernel before running loop! Takes 30+ mins to run\n",
    "</div>"
   ]
  },
  {
   "cell_type": "code",
   "execution_count": 3,
   "id": "9ee7c227-847f-4c23-8f58-316375717e0c",
   "metadata": {},
   "outputs": [],
   "source": [
    "# create jsonreader object\n",
    "reader = pd.read_json('/Users/harper/Documents/GitHub/yelp_dataset/yelp_academic_dataset_review.json', \n",
    "                    orient = 'records', lines=True, chunksize=1000)\n",
    "\n",
    "# initialize empty dataframe\n",
    "colnames = ['review_id','user_id','business_id','stars','useful','funny','cool','text','date']\n",
    "reviews = pd.DataFrame(columns = colnames)\n",
    "\n",
    "# iterate through, filter for state, then add each chunk to the dataframe.\n",
    "for chunk in reader:\n",
    "    subset = chunk[chunk['business_id'].isin(bizPhil.business_id)]\n",
    "    reviews = pd.concat([reviews, subset])\n",
    "\n"
   ]
  },
  {
   "cell_type": "code",
   "execution_count": 9,
   "id": "0686150d-31c4-4f38-bcfd-ac11e48e431c",
   "metadata": {},
   "outputs": [],
   "source": [
    "reviews.to_pickle('data/reviewsPhil.pandas')"
   ]
  },
  {
   "cell_type": "code",
   "execution_count": 10,
   "id": "c2bdfe54-bc4d-415f-810f-0a9f3cc4556d",
   "metadata": {},
   "outputs": [],
   "source": [
    "reviews.to_csv('data/reviewsPhil.csv')"
   ]
  },
  {
   "cell_type": "code",
   "execution_count": null,
   "id": "98bbb76f-0ee3-4a3d-956a-85196f7365bf",
   "metadata": {},
   "outputs": [],
   "source": [
    "# just for testing -- dont run\n",
    "limit = 10 \n",
    "for index,chunk in zip(range(limit), reader):\n",
    "    subset = chunk[chunk['business_id'].isin(bizPhil.business_id)]\n",
    "    reviews = pd.concat([reviews, subset])"
   ]
  }
 ],
 "metadata": {
  "kernelspec": {
   "display_name": "Python 3 (ipykernel)",
   "language": "python",
   "name": "python3"
  },
  "language_info": {
   "codemirror_mode": {
    "name": "ipython",
    "version": 3
   },
   "file_extension": ".py",
   "mimetype": "text/x-python",
   "name": "python",
   "nbconvert_exporter": "python",
   "pygments_lexer": "ipython3",
   "version": "3.8.13"
  }
 },
 "nbformat": 4,
 "nbformat_minor": 5
}
