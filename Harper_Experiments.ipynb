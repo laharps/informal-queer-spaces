{
 "cells": [
  {
   "cell_type": "code",
   "execution_count": 1,
   "id": "b507540c",
   "metadata": {},
   "outputs": [],
   "source": [
    "import pandas as pd\n",
    "import geopandas as gpd\n",
    "import requests\n",
    "import json\n",
    "from bs4 import BeautifulSoup\n"
   ]
  },
  {
   "cell_type": "code",
   "execution_count": null,
   "id": "c3ee84a5",
   "metadata": {},
   "outputs": [],
   "source": [
    "# Yelp Search Results\n",
    "r = requests.get('https://www.yelp.com/search?find_desc=bars&find_loc=Los+Angeles%2C+CA+90049&ns=1')\n",
    "r.ok"
   ]
  },
  {
   "cell_type": "code",
   "execution_count": null,
   "id": "1c4b807c",
   "metadata": {},
   "outputs": [],
   "source": [
    "#r.text"
   ]
  },
  {
   "cell_type": "code",
   "execution_count": null,
   "id": "ab070346",
   "metadata": {},
   "outputs": [],
   "source": [
    "soup = BeautifulSoup(r.text)\n",
    "print(soup.prettify())"
   ]
  },
  {
   "cell_type": "code",
   "execution_count": null,
   "id": "f7e5161b",
   "metadata": {},
   "outputs": [],
   "source": [
    "# YELP URL of One page (could extract from businessurl)\n",
    "r = requests.get('https://www.yelp.com/biz/the-wellesbourne-los-angeles?osq=bars')"
   ]
  },
  {
   "cell_type": "code",
   "execution_count": null,
   "id": "a6aab8ba",
   "metadata": {},
   "outputs": [],
   "source": [
    "soup = BeautifulSoup(r.text)\n",
    "print(soup.prettify())"
   ]
  },
  {
   "cell_type": "code",
   "execution_count": null,
   "id": "5fe6fc2a",
   "metadata": {},
   "outputs": [],
   "source": [
    "soup.find_all(\"application/ld+json\")"
   ]
  },
  {
   "cell_type": "code",
   "execution_count": 7,
   "id": "468bb5be",
   "metadata": {},
   "outputs": [
    {
     "name": "stdout",
     "output_type": "stream",
     "text": [
      "Header overflow\n"
     ]
    }
   ],
   "source": [
    "# Foursquare API\n",
    "# API has tips for each venue, can pull up to \n",
    "import requests\n",
    "\n",
    "fsq_id = '5a187743ccad6b307315e6fe'\n",
    "url = \"https://api.foursquare.com/v3/places/{}/tips\".format(fsq_id)\n",
    "\n",
    "headers = {\"Accept\": \"application/json\"}\n",
    "\n",
    "response = requests.get(url, headers=headers)\n",
    "\n",
    "print(response.text)"
   ]
  },
  {
   "cell_type": "code",
   "execution_count": null,
   "id": "7d05d247-52aa-4b28-8d96-55d53829c9e1",
   "metadata": {},
   "outputs": [],
   "source": []
  }
 ],
 "metadata": {
  "kernelspec": {
   "display_name": "Python 3 (ipykernel)",
   "language": "python",
   "name": "python3"
  },
  "language_info": {
   "codemirror_mode": {
    "name": "ipython",
    "version": 3
   },
   "file_extension": ".py",
   "mimetype": "text/x-python",
   "name": "python",
   "nbconvert_exporter": "python",
   "pygments_lexer": "ipython3",
   "version": "3.8.13"
  }
 },
 "nbformat": 4,
 "nbformat_minor": 5
}
