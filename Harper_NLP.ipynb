{
 "cells": [
  {
   "cell_type": "markdown",
   "id": "ce58c92a-e3cf-454e-bf9f-c0550aa953f4",
   "metadata": {},
   "source": [
    "# Natural Language Processing"
   ]
  },
  {
   "cell_type": "markdown",
   "id": "2fa008d3-be0c-4f6e-9476-e555343a4109",
   "metadata": {},
   "source": [
    "This notebook uses the reviews dataframe for Philadelphia to identify key words in all of the reviews.\n",
    "\n",
    "<i> Next up, create a subset of reviews for known gay businesses using the business_id. Run the same NLP code to generate a list of gay words."
   ]
  },
  {
   "cell_type": "code",
   "execution_count": 1,
   "id": "ecbcfe4c-91db-4faa-a9ab-aae36b384103",
   "metadata": {},
   "outputs": [
    {
     "name": "stderr",
     "output_type": "stream",
     "text": [
      "[nltk_data] Downloading package stopwords to\n",
      "[nltk_data]     /Users/harper/nltk_data...\n",
      "[nltk_data]   Package stopwords is already up-to-date!\n",
      "[nltk_data] Downloading package punkt to /Users/harper/nltk_data...\n",
      "[nltk_data]   Package punkt is already up-to-date!\n"
     ]
    },
    {
     "data": {
      "text/plain": [
       "True"
      ]
     },
     "execution_count": 1,
     "metadata": {},
     "output_type": "execute_result"
    }
   ],
   "source": [
    "import pandas as pd\n",
    "import geopandas as gpd\n",
    "\n",
    "import nltk\n",
    "from nltk.corpus import stopwords\n",
    "from nltk.tokenize import word_tokenize, sent_tokenize\n",
    "\n",
    "import re\n",
    "nltk.download('stopwords')\n",
    "nltk.download('punkt')"
   ]
  },
  {
   "cell_type": "code",
   "execution_count": 2,
   "id": "0220b820-2074-476d-a785-c25cf7cbf1db",
   "metadata": {},
   "outputs": [],
   "source": [
    "reviews = pd.read_pickle('data/gay_reviews_phil.pandas') # this mf is massive\n",
    "reviews.reset_index(inplace=True)"
   ]
  },
  {
   "cell_type": "code",
   "execution_count": 3,
   "id": "5ccb3062-2b60-43f5-a0a1-d4e67007a2a3",
   "metadata": {},
   "outputs": [
    {
     "data": {
      "text/html": [
       "<div>\n",
       "<style scoped>\n",
       "    .dataframe tbody tr th:only-of-type {\n",
       "        vertical-align: middle;\n",
       "    }\n",
       "\n",
       "    .dataframe tbody tr th {\n",
       "        vertical-align: top;\n",
       "    }\n",
       "\n",
       "    .dataframe thead th {\n",
       "        text-align: right;\n",
       "    }\n",
       "</style>\n",
       "<table border=\"1\" class=\"dataframe\">\n",
       "  <thead>\n",
       "    <tr style=\"text-align: right;\">\n",
       "      <th></th>\n",
       "      <th>index</th>\n",
       "      <th>review_id</th>\n",
       "      <th>user_id</th>\n",
       "      <th>business_id</th>\n",
       "      <th>stars</th>\n",
       "      <th>useful</th>\n",
       "      <th>funny</th>\n",
       "      <th>cool</th>\n",
       "      <th>text</th>\n",
       "      <th>date</th>\n",
       "    </tr>\n",
       "  </thead>\n",
       "  <tbody>\n",
       "    <tr>\n",
       "      <th>0</th>\n",
       "      <td>641</td>\n",
       "      <td>9kB_3ZwSjvz22matz8L1hw</td>\n",
       "      <td>MyLGJPkC8q5sKTNImKBb9Q</td>\n",
       "      <td>8FALz8g6oaTca0ufiUuF6w</td>\n",
       "      <td>4</td>\n",
       "      <td>0</td>\n",
       "      <td>0</td>\n",
       "      <td>0</td>\n",
       "      <td>Went there due to having a gc, and was suprise...</td>\n",
       "      <td>2011-10-27 23:30:47</td>\n",
       "    </tr>\n",
       "    <tr>\n",
       "      <th>1</th>\n",
       "      <td>19626</td>\n",
       "      <td>ZddJtqDHdOUHnW65f1NqAQ</td>\n",
       "      <td>bgyDhaVEcmZwCiWK24ULNw</td>\n",
       "      <td>8FALz8g6oaTca0ufiUuF6w</td>\n",
       "      <td>4</td>\n",
       "      <td>1</td>\n",
       "      <td>5</td>\n",
       "      <td>1</td>\n",
       "      <td>As far as gay bars go, this place is the tits!...</td>\n",
       "      <td>2011-07-28 18:43:11</td>\n",
       "    </tr>\n",
       "    <tr>\n",
       "      <th>2</th>\n",
       "      <td>25242</td>\n",
       "      <td>TSxQdmKXrL9eQ6jxCc5l4g</td>\n",
       "      <td>84HvpQDxcHWmbMDfs8IEYw</td>\n",
       "      <td>8FALz8g6oaTca0ufiUuF6w</td>\n",
       "      <td>4</td>\n",
       "      <td>4</td>\n",
       "      <td>1</td>\n",
       "      <td>6</td>\n",
       "      <td>A Gay Sports Bar?  Hell yeah!    I went on St....</td>\n",
       "      <td>2010-03-18 18:50:09</td>\n",
       "    </tr>\n",
       "    <tr>\n",
       "      <th>3</th>\n",
       "      <td>28557</td>\n",
       "      <td>VLMnIlr9Iz8SlM6ins9Dlw</td>\n",
       "      <td>-wBQ2jBxanWHra6E9gQUcQ</td>\n",
       "      <td>8FALz8g6oaTca0ufiUuF6w</td>\n",
       "      <td>5</td>\n",
       "      <td>0</td>\n",
       "      <td>0</td>\n",
       "      <td>0</td>\n",
       "      <td>Yum yum yum!  The new menu is great. I really ...</td>\n",
       "      <td>2017-01-28 19:16:34</td>\n",
       "    </tr>\n",
       "    <tr>\n",
       "      <th>4</th>\n",
       "      <td>31642</td>\n",
       "      <td>ydo3dp9Uh9DzSsngaRLA6g</td>\n",
       "      <td>lm56NZaqG90rCIq7mdZYgA</td>\n",
       "      <td>8FALz8g6oaTca0ufiUuF6w</td>\n",
       "      <td>4</td>\n",
       "      <td>1</td>\n",
       "      <td>1</td>\n",
       "      <td>2</td>\n",
       "      <td>I can only speak on the atmosphere since I did...</td>\n",
       "      <td>2015-10-09 22:00:48</td>\n",
       "    </tr>\n",
       "  </tbody>\n",
       "</table>\n",
       "</div>"
      ],
      "text/plain": [
       "   index               review_id                 user_id  \\\n",
       "0    641  9kB_3ZwSjvz22matz8L1hw  MyLGJPkC8q5sKTNImKBb9Q   \n",
       "1  19626  ZddJtqDHdOUHnW65f1NqAQ  bgyDhaVEcmZwCiWK24ULNw   \n",
       "2  25242  TSxQdmKXrL9eQ6jxCc5l4g  84HvpQDxcHWmbMDfs8IEYw   \n",
       "3  28557  VLMnIlr9Iz8SlM6ins9Dlw  -wBQ2jBxanWHra6E9gQUcQ   \n",
       "4  31642  ydo3dp9Uh9DzSsngaRLA6g  lm56NZaqG90rCIq7mdZYgA   \n",
       "\n",
       "              business_id stars useful funny cool  \\\n",
       "0  8FALz8g6oaTca0ufiUuF6w     4      0     0    0   \n",
       "1  8FALz8g6oaTca0ufiUuF6w     4      1     5    1   \n",
       "2  8FALz8g6oaTca0ufiUuF6w     4      4     1    6   \n",
       "3  8FALz8g6oaTca0ufiUuF6w     5      0     0    0   \n",
       "4  8FALz8g6oaTca0ufiUuF6w     4      1     1    2   \n",
       "\n",
       "                                                text                 date  \n",
       "0  Went there due to having a gc, and was suprise...  2011-10-27 23:30:47  \n",
       "1  As far as gay bars go, this place is the tits!...  2011-07-28 18:43:11  \n",
       "2  A Gay Sports Bar?  Hell yeah!    I went on St....  2010-03-18 18:50:09  \n",
       "3  Yum yum yum!  The new menu is great. I really ...  2017-01-28 19:16:34  \n",
       "4  I can only speak on the atmosphere since I did...  2015-10-09 22:00:48  "
      ]
     },
     "execution_count": 3,
     "metadata": {},
     "output_type": "execute_result"
    }
   ],
   "source": [
    "reviews.head()"
   ]
  },
  {
   "cell_type": "markdown",
   "id": "d3020398-7f06-45e9-9c51-1e617196586a",
   "metadata": {},
   "source": [
    "Let's look at the reviews dataframe."
   ]
  },
  {
   "cell_type": "code",
   "execution_count": 3,
   "id": "65834f29-d21c-40b1-9875-188315b7f1aa",
   "metadata": {},
   "outputs": [
    {
     "name": "stdout",
     "output_type": "stream",
     "text": [
      "There are 1212 total reviews for 11 unique businesses.\n",
      "0    Went there due to having a gc, and was suprise...\n",
      "1    As far as gay bars go, this place is the tits!...\n",
      "2    A Gay Sports Bar?  Hell yeah!    I went on St....\n",
      "3    Yum yum yum!  The new menu is great. I really ...\n",
      "4    I can only speak on the atmosphere since I did...\n",
      "Name: text, dtype: object\n"
     ]
    }
   ],
   "source": [
    "print('There are '+str(len(reviews)) + ' total reviews for '+ str(len(reviews.business_id.unique())) + ' unique businesses.')\n",
    "print(reviews.text.head())"
   ]
  },
  {
   "cell_type": "markdown",
   "id": "41198ed7-26fe-4033-9a31-32629ac4ade6",
   "metadata": {},
   "source": [
    "## Simple Word Counts"
   ]
  },
  {
   "cell_type": "markdown",
   "id": "97aeacc8-a43f-451a-8990-9e4fa9a4daa7",
   "metadata": {},
   "source": [
    "First, I'll put all the reviews into one massive string."
   ]
  },
  {
   "cell_type": "code",
   "execution_count": 5,
   "id": "8a9b6497-c29e-4f8f-9d79-58c5dcf26981",
   "metadata": {},
   "outputs": [],
   "source": [
    "s = \"\"\n",
    "for i in range(len(reviews)):\n",
    "    s+=reviews['text'][i]"
   ]
  },
  {
   "cell_type": "markdown",
   "id": "ac10d417-6cd9-439c-bd4c-fae313aa60cc",
   "metadata": {},
   "source": [
    "Now split up all the words, clean out symbols and stopwords, and count them!"
   ]
  },
  {
   "cell_type": "code",
   "execution_count": 6,
   "id": "d6beed28-1a7c-4fa8-b7ee-ccce9d9b4e3a",
   "metadata": {},
   "outputs": [
    {
     "data": {
      "text/html": [
       "<div>\n",
       "<style scoped>\n",
       "    .dataframe tbody tr th:only-of-type {\n",
       "        vertical-align: middle;\n",
       "    }\n",
       "\n",
       "    .dataframe tbody tr th {\n",
       "        vertical-align: top;\n",
       "    }\n",
       "\n",
       "    .dataframe thead th {\n",
       "        text-align: right;\n",
       "    }\n",
       "</style>\n",
       "<table border=\"1\" class=\"dataframe\">\n",
       "  <thead>\n",
       "    <tr style=\"text-align: right;\">\n",
       "      <th></th>\n",
       "      <th>word_count</th>\n",
       "    </tr>\n",
       "    <tr>\n",
       "      <th>word</th>\n",
       "      <th></th>\n",
       "    </tr>\n",
       "  </thead>\n",
       "  <tbody>\n",
       "    <tr>\n",
       "      <th>bar</th>\n",
       "      <td>1025</td>\n",
       "    </tr>\n",
       "    <tr>\n",
       "      <th>place</th>\n",
       "      <td>701</td>\n",
       "    </tr>\n",
       "    <tr>\n",
       "      <th>drinks</th>\n",
       "      <td>522</td>\n",
       "    </tr>\n",
       "    <tr>\n",
       "      <th>night</th>\n",
       "      <td>511</td>\n",
       "    </tr>\n",
       "    <tr>\n",
       "      <th>gay</th>\n",
       "      <td>510</td>\n",
       "    </tr>\n",
       "    <tr>\n",
       "      <th>good</th>\n",
       "      <td>504</td>\n",
       "    </tr>\n",
       "    <tr>\n",
       "      <th>great</th>\n",
       "      <td>487</td>\n",
       "    </tr>\n",
       "    <tr>\n",
       "      <th>time</th>\n",
       "      <td>475</td>\n",
       "    </tr>\n",
       "    <tr>\n",
       "      <th>like</th>\n",
       "      <td>468</td>\n",
       "    </tr>\n",
       "    <tr>\n",
       "      <th>go</th>\n",
       "      <td>436</td>\n",
       "    </tr>\n",
       "  </tbody>\n",
       "</table>\n",
       "</div>"
      ],
      "text/plain": [
       "        word_count\n",
       "word              \n",
       "bar           1025\n",
       "place          701\n",
       "drinks         522\n",
       "night          511\n",
       "gay            510\n",
       "good           504\n",
       "great          487\n",
       "time           475\n",
       "like           468\n",
       "go             436"
      ]
     },
     "execution_count": 6,
     "metadata": {},
     "output_type": "execute_result"
    }
   ],
   "source": [
    "def countWords(wordlist):\n",
    "    counts = {} \n",
    "    \n",
    "    for word in wordlist:\n",
    "        lword = word.lower()\n",
    "        if lword in counts:\n",
    "            counts[lword] +=1\n",
    "        else:\n",
    "            counts[lword] = 1\n",
    "\n",
    "    df = pd.DataFrame.from_dict(counts, orient='index', columns=['word_count'])\n",
    "    df.sort_values('word_count', ascending=False, inplace=True)\n",
    "    df.index.name = 'word'\n",
    "    \n",
    "    return df\n",
    "\n",
    "wordlist = word_tokenize(re.sub(r\"[^A-z\\s]\", \"\", s))\n",
    "\n",
    "df = countWords(wordlist)\n",
    "df.drop(index=stopwords.words('english'), errors='ignore', inplace=True)\n",
    "\n",
    "df.head(10)"
   ]
  },
  {
   "cell_type": "code",
   "execution_count": 20,
   "id": "978acfa7-5c0f-4d48-8b8d-ed6b63a7f3da",
   "metadata": {},
   "outputs": [],
   "source": [
    "df.to_pickle('data/wordcounts_gay.pandas')"
   ]
  },
  {
   "cell_type": "markdown",
   "id": "c9683f70-6341-43d2-91ab-c4430c0c6696",
   "metadata": {
    "tags": []
   },
   "source": [
    "## Check for really gay words"
   ]
  },
  {
   "cell_type": "code",
   "execution_count": 12,
   "id": "9527e61a-4fd7-4cfe-92b8-bb2dffa55a41",
   "metadata": {},
   "outputs": [],
   "source": [
    "gay_words = ['gay', 'gays', 'queer', 'queers', 'lesbian', 'lesbians', 'dyke', 'dykes','lgbt', 'lgbtq', \n",
    "             'homosexual', 'homosexuals', 'homo', 'homos', 'homophobic', 'drag', \n",
    "             'queen', 'queens', 'trans', 'transgender', 'transphobic', 'bisexual','bisexuals',\n",
    "             'twink', 'twinks', 'bear', 'bears']"
   ]
  },
  {
   "cell_type": "code",
   "execution_count": 16,
   "id": "cc1489e1-367f-4029-9c74-81f99c8a1fff",
   "metadata": {},
   "outputs": [
    {
     "data": {
      "text/plain": [
       "['gay',\n",
       " 'gays',\n",
       " 'queer',\n",
       " 'queers',\n",
       " 'lesbian',\n",
       " 'lesbians',\n",
       " 'lgbt',\n",
       " 'lgbtq',\n",
       " 'homosexual',\n",
       " 'homophobic',\n",
       " 'drag',\n",
       " 'queen',\n",
       " 'queens',\n",
       " 'trans',\n",
       " 'transgender',\n",
       " 'bisexual',\n",
       " 'twinks',\n",
       " 'bear',\n",
       " 'bears']"
      ]
     },
     "execution_count": 16,
     "metadata": {},
     "output_type": "execute_result"
    }
   ],
   "source": [
    "gay_in_yelp = [word for word in gay_words if word in df.index]\n",
    "gay_in_yelp"
   ]
  },
  {
   "cell_type": "code",
   "execution_count": 19,
   "id": "bcce0e70-69d7-44a5-a064-df39f77730cc",
   "metadata": {},
   "outputs": [
    {
     "name": "stdout",
     "output_type": "stream",
     "text": [
      "25\n",
      "19\n"
     ]
    }
   ],
   "source": [
    "print(len(gay_words))\n",
    "print(len(gay_in_yelp))"
   ]
  },
  {
   "cell_type": "markdown",
   "id": "8154f963-4aad-41ba-af21-ccc77f2ab9a6",
   "metadata": {},
   "source": [
    "Wow! Looks like 19 out of our 20 gay words are in the yelp reviews! "
   ]
  },
  {
   "cell_type": "code",
   "execution_count": null,
   "id": "1f47de45-ad3a-4a09-aa8e-0eeff0a2ddaa",
   "metadata": {},
   "outputs": [],
   "source": []
  }
 ],
 "metadata": {
  "kernelspec": {
   "display_name": "Python 3 (ipykernel)",
   "language": "python",
   "name": "python3"
  },
  "language_info": {
   "codemirror_mode": {
    "name": "ipython",
    "version": 3
   },
   "file_extension": ".py",
   "mimetype": "text/x-python",
   "name": "python",
   "nbconvert_exporter": "python",
   "pygments_lexer": "ipython3",
   "version": "3.8.13"
  }
 },
 "nbformat": 4,
 "nbformat_minor": 5
}
