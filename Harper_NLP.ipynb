{
 "cells": [
  {
   "cell_type": "markdown",
   "id": "ce58c92a-e3cf-454e-bf9f-c0550aa953f4",
   "metadata": {},
   "source": [
    "# Natural Language Processing"
   ]
  },
  {
   "cell_type": "markdown",
   "id": "2fa008d3-be0c-4f6e-9476-e555343a4109",
   "metadata": {},
   "source": [
    "This notebook uses the gay reviews dataframe for Philadelphia to identify key words in businesses that we have already identified as queer. \n",
    "\n",
    "The output of this notebook is a list of queer words that we will use to identify other queer businesses. \n"
   ]
  },
  {
   "cell_type": "code",
   "execution_count": 1,
   "id": "ecbcfe4c-91db-4faa-a9ab-aae36b384103",
   "metadata": {},
   "outputs": [
    {
     "name": "stderr",
     "output_type": "stream",
     "text": [
      "[nltk_data] Downloading package stopwords to\n",
      "[nltk_data]     /Users/harper/nltk_data...\n",
      "[nltk_data]   Package stopwords is already up-to-date!\n",
      "[nltk_data] Downloading package punkt to /Users/harper/nltk_data...\n",
      "[nltk_data]   Package punkt is already up-to-date!\n"
     ]
    },
    {
     "data": {
      "text/plain": [
       "True"
      ]
     },
     "execution_count": 1,
     "metadata": {},
     "output_type": "execute_result"
    }
   ],
   "source": [
    "import pandas as pd\n",
    "import geopandas as gpd\n",
    "\n",
    "import nltk\n",
    "from nltk.corpus import stopwords\n",
    "from nltk.tokenize import word_tokenize, sent_tokenize\n",
    "\n",
    "import re\n",
    "nltk.download('stopwords')\n",
    "nltk.download('punkt')"
   ]
  },
  {
   "cell_type": "code",
   "execution_count": 2,
   "id": "0220b820-2074-476d-a785-c25cf7cbf1db",
   "metadata": {},
   "outputs": [],
   "source": [
    "reviews = pd.read_pickle('data/gay_reviews_phil.pandas')\n",
    "reviews.reset_index(inplace=True)"
   ]
  },
  {
   "cell_type": "markdown",
   "id": "d3020398-7f06-45e9-9c51-1e617196586a",
   "metadata": {},
   "source": [
    "Let's look at the reviews dataframe."
   ]
  },
  {
   "cell_type": "code",
   "execution_count": 7,
   "id": "65834f29-d21c-40b1-9875-188315b7f1aa",
   "metadata": {},
   "outputs": [
    {
     "name": "stdout",
     "output_type": "stream",
     "text": [
      "There are 10365 total reviews for 36 unique businesses.\n",
      "0    Beautiful clean shop with knock your socks off...\n",
      "1    Went there due to having a gc, and was suprise...\n",
      "2    The Lemon Cake is as good as it is heavy.    I...\n",
      "3    First time here and I have to say it's pretty ...\n",
      "4    Not a great vibe, employees were pretty rude m...\n",
      "Name: text, dtype: object\n"
     ]
    }
   ],
   "source": [
    "print('There are '+str(len(reviews)) + ' total reviews for '+ str(len(reviews.business_id.unique())) + ' unique businesses.')\n",
    "print(reviews.text.head())"
   ]
  },
  {
   "cell_type": "markdown",
   "id": "41198ed7-26fe-4033-9a31-32629ac4ade6",
   "metadata": {},
   "source": [
    "## Simple Word Counts"
   ]
  },
  {
   "cell_type": "markdown",
   "id": "97aeacc8-a43f-451a-8990-9e4fa9a4daa7",
   "metadata": {},
   "source": [
    "First, I'll put all the reviews into one massive string."
   ]
  },
  {
   "cell_type": "code",
   "execution_count": 8,
   "id": "8a9b6497-c29e-4f8f-9d79-58c5dcf26981",
   "metadata": {},
   "outputs": [],
   "source": [
    "s = \"\"\n",
    "for i in range(len(reviews)):\n",
    "    s+=reviews['text'][i]"
   ]
  },
  {
   "cell_type": "markdown",
   "id": "ac10d417-6cd9-439c-bd4c-fae313aa60cc",
   "metadata": {},
   "source": [
    "Now split up all the words, clean out symbols and stopwords, and count them!"
   ]
  },
  {
   "cell_type": "code",
   "execution_count": 10,
   "id": "d6beed28-1a7c-4fa8-b7ee-ccce9d9b4e3a",
   "metadata": {},
   "outputs": [],
   "source": [
    "def countWords(wordlist):\n",
    "    counts = {} \n",
    "    \n",
    "    for word in wordlist:\n",
    "        lword = word.lower()\n",
    "        if lword in counts:\n",
    "            counts[lword] +=1\n",
    "        else:\n",
    "            counts[lword] = 1\n",
    "\n",
    "    df = pd.DataFrame.from_dict(counts, orient='index', columns=['word_count'])\n",
    "    df.sort_values('word_count', ascending=False, inplace=True)\n",
    "    df.index.name = 'word'\n",
    "    \n",
    "    return df\n",
    "\n",
    "wordlist = word_tokenize(re.sub(r\"[^A-z\\s]\", \"\", s))\n",
    "\n",
    "df = countWords(wordlist)\n",
    "df.drop(index=stopwords.words('english'), errors='ignore', inplace=True)\n",
    "\n",
    "df.to_pickle('data/wordcounts_gay.pandas')"
   ]
  },
  {
   "cell_type": "code",
   "execution_count": 29,
   "id": "978acfa7-5c0f-4d48-8b8d-ed6b63a7f3da",
   "metadata": {},
   "outputs": [],
   "source": [
    "#list(df[df.word_count < 100].index)"
   ]
  },
  {
   "cell_type": "markdown",
   "id": "c9683f70-6341-43d2-91ab-c4430c0c6696",
   "metadata": {
    "tags": []
   },
   "source": [
    "## Check for really gay words"
   ]
  },
  {
   "cell_type": "markdown",
   "id": "7b0c7a69-ef77-49b1-bd02-fe65622500a7",
   "metadata": {},
   "source": [
    "Check the word list for our generated list of queer vocabulary and also pull the word count for each. "
   ]
  },
  {
   "cell_type": "code",
   "execution_count": 30,
   "id": "9527e61a-4fd7-4cfe-92b8-bb2dffa55a41",
   "metadata": {},
   "outputs": [],
   "source": [
    "gay_vocab = ['gay', 'gays', 'queer', 'queers', 'lesbian', 'lesbians', 'dyke', 'dykes','lgbt', 'lgbtq', \n",
    "             'homosexual', 'homosexuals', 'homo', 'homos', 'homophobic', 'drag', \n",
    "             'queen', 'queens', 'trans', 'transgender', 'transphobic', 'bisexual','bisexuals',\n",
    "             'twink', 'twinks', 'bear', 'bears']"
   ]
  },
  {
   "cell_type": "code",
   "execution_count": 31,
   "id": "cc1489e1-367f-4029-9c74-81f99c8a1fff",
   "metadata": {},
   "outputs": [
    {
     "data": {
      "text/html": [
       "<div>\n",
       "<style scoped>\n",
       "    .dataframe tbody tr th:only-of-type {\n",
       "        vertical-align: middle;\n",
       "    }\n",
       "\n",
       "    .dataframe tbody tr th {\n",
       "        vertical-align: top;\n",
       "    }\n",
       "\n",
       "    .dataframe thead th {\n",
       "        text-align: right;\n",
       "    }\n",
       "</style>\n",
       "<table border=\"1\" class=\"dataframe\">\n",
       "  <thead>\n",
       "    <tr style=\"text-align: right;\">\n",
       "      <th></th>\n",
       "      <th>word_count</th>\n",
       "    </tr>\n",
       "    <tr>\n",
       "      <th>word</th>\n",
       "      <th></th>\n",
       "    </tr>\n",
       "  </thead>\n",
       "  <tbody>\n",
       "    <tr>\n",
       "      <th>gay</th>\n",
       "      <td>530</td>\n",
       "    </tr>\n",
       "    <tr>\n",
       "      <th>drag</th>\n",
       "      <td>197</td>\n",
       "    </tr>\n",
       "    <tr>\n",
       "      <th>queen</th>\n",
       "      <td>39</td>\n",
       "    </tr>\n",
       "    <tr>\n",
       "      <th>queer</th>\n",
       "      <td>28</td>\n",
       "    </tr>\n",
       "    <tr>\n",
       "      <th>queens</th>\n",
       "      <td>27</td>\n",
       "    </tr>\n",
       "    <tr>\n",
       "      <th>lgbt</th>\n",
       "      <td>25</td>\n",
       "    </tr>\n",
       "    <tr>\n",
       "      <th>bear</th>\n",
       "      <td>25</td>\n",
       "    </tr>\n",
       "    <tr>\n",
       "      <th>lesbian</th>\n",
       "      <td>24</td>\n",
       "    </tr>\n",
       "    <tr>\n",
       "      <th>gays</th>\n",
       "      <td>19</td>\n",
       "    </tr>\n",
       "    <tr>\n",
       "      <th>lgbtq</th>\n",
       "      <td>19</td>\n",
       "    </tr>\n",
       "    <tr>\n",
       "      <th>homophobic</th>\n",
       "      <td>15</td>\n",
       "    </tr>\n",
       "    <tr>\n",
       "      <th>bears</th>\n",
       "      <td>10</td>\n",
       "    </tr>\n",
       "    <tr>\n",
       "      <th>trans</th>\n",
       "      <td>9</td>\n",
       "    </tr>\n",
       "    <tr>\n",
       "      <th>lesbians</th>\n",
       "      <td>8</td>\n",
       "    </tr>\n",
       "    <tr>\n",
       "      <th>transgender</th>\n",
       "      <td>2</td>\n",
       "    </tr>\n",
       "    <tr>\n",
       "      <th>dyke</th>\n",
       "      <td>2</td>\n",
       "    </tr>\n",
       "    <tr>\n",
       "      <th>twinks</th>\n",
       "      <td>2</td>\n",
       "    </tr>\n",
       "    <tr>\n",
       "      <th>queers</th>\n",
       "      <td>2</td>\n",
       "    </tr>\n",
       "    <tr>\n",
       "      <th>homosexual</th>\n",
       "      <td>2</td>\n",
       "    </tr>\n",
       "    <tr>\n",
       "      <th>bisexual</th>\n",
       "      <td>1</td>\n",
       "    </tr>\n",
       "    <tr>\n",
       "      <th>homosexuals</th>\n",
       "      <td>1</td>\n",
       "    </tr>\n",
       "  </tbody>\n",
       "</table>\n",
       "</div>"
      ],
      "text/plain": [
       "             word_count\n",
       "word                   \n",
       "gay                 530\n",
       "drag                197\n",
       "queen                39\n",
       "queer                28\n",
       "queens               27\n",
       "lgbt                 25\n",
       "bear                 25\n",
       "lesbian              24\n",
       "gays                 19\n",
       "lgbtq                19\n",
       "homophobic           15\n",
       "bears                10\n",
       "trans                 9\n",
       "lesbians              8\n",
       "transgender           2\n",
       "dyke                  2\n",
       "twinks                2\n",
       "queers                2\n",
       "homosexual            2\n",
       "bisexual              1\n",
       "homosexuals           1"
      ]
     },
     "execution_count": 31,
     "metadata": {},
     "output_type": "execute_result"
    }
   ],
   "source": [
    "gay_word_count = df[df.index.isin([word for word in gay_vocab if word in df.index])] \n",
    "gay_word_count"
   ]
  },
  {
   "cell_type": "code",
   "execution_count": 34,
   "id": "d0cb2bae-e779-457c-998e-4d146e57134d",
   "metadata": {},
   "outputs": [
    {
     "data": {
      "text/plain": [
       "['gay',\n",
       " 'drag',\n",
       " 'queen',\n",
       " 'queer',\n",
       " 'queens',\n",
       " 'lgbt',\n",
       " 'bear',\n",
       " 'lesbian',\n",
       " 'gays',\n",
       " 'lgbtq',\n",
       " 'homophobic',\n",
       " 'bears',\n",
       " 'trans',\n",
       " 'lesbians',\n",
       " 'transgender',\n",
       " 'dyke',\n",
       " 'twinks',\n",
       " 'queers',\n",
       " 'homosexual',\n",
       " 'bisexual',\n",
       " 'homosexuals']"
      ]
     },
     "execution_count": 34,
     "metadata": {},
     "output_type": "execute_result"
    }
   ],
   "source": [
    "list(gay_word_count.index)\n",
    "# just copy and paste these guys to the all biz notebook"
   ]
  }
 ],
 "metadata": {
  "kernelspec": {
   "display_name": "Python 3 (ipykernel)",
   "language": "python",
   "name": "python3"
  },
  "language_info": {
   "codemirror_mode": {
    "name": "ipython",
    "version": 3
   },
   "file_extension": ".py",
   "mimetype": "text/x-python",
   "name": "python",
   "nbconvert_exporter": "python",
   "pygments_lexer": "ipython3",
   "version": "3.8.13"
  }
 },
 "nbformat": 4,
 "nbformat_minor": 5
}
